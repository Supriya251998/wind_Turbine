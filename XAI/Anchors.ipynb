{
 "cells": [
  {
   "cell_type": "code",
   "execution_count": 10,
   "metadata": {},
   "outputs": [],
   "source": [
    "import shap\n",
    "import pandas as pd\n",
    "import pickle\n",
    "import copy\n",
    "import matplotlib.pyplot as plt\n",
    "import seaborn as sns\n",
    "import numpy as np\n",
    "from alibi.explainers import AnchorTabular\n",
    "import time\n",
    "from sklearn.preprocessing import LabelEncoder\n",
    "from sklearn.model_selection import  train_test_split"
   ]
  },
  {
   "cell_type": "code",
   "execution_count": 3,
   "metadata": {},
   "outputs": [],
   "source": [
    "import warnings\n",
    "warnings.filterwarnings(\"ignore\")"
   ]
  },
  {
   "cell_type": "code",
   "execution_count": 5,
   "metadata": {},
   "outputs": [],
   "source": [
    "failures = pd.read_csv('../data/model_data/failures.csv',sep=',')\n",
    "components = failures['Component'].unique()"
   ]
  },
  {
   "cell_type": "code",
   "execution_count": 8,
   "metadata": {},
   "outputs": [],
   "source": [
    "encoder = LabelEncoder()\n",
    "for component in components:\n",
    "    globals()[f\"{component}_df\"] = pd.read_csv(f'../data/model_data/labelled_data_{component}.csv',sep=',')\n",
    "    globals()[f\"{component}_df\"]['Turbine_ID'] = encoder.fit_transform(['Turbine_ID']*globals()[f\"{component}_df\"].shape[0])\n",
    "    # set the date as the index\n",
    "    globals()[f\"{component}_df\"] = globals()[f\"{component}_df\"].set_index('Timestamp')"
   ]
  },
  {
   "cell_type": "code",
   "execution_count": 11,
   "metadata": {},
   "outputs": [],
   "source": [
    "class_target_name = \"Failure (Target)\"\n",
    "for component in components:\n",
    "    X = globals()[f\"{component}_df\"].drop(columns=['Component',class_target_name])\n",
    "    y = globals()[f\"{component}_df\"][class_target_name]\n",
    "    X_train, X_test, y_train, y_test = train_test_split(X, y, test_size=0.3, random_state=42)\n",
    "    globals()[f\"{component}_X_train\"] = X_train\n",
    "    globals()[f\"{component}_X_test\"] = X_test\n",
    "    globals()[f\"{component}_y_train\"] = y_train\n",
    "    globals()[f\"{component}_y_test\"] = y_test"
   ]
  }
 ],
 "metadata": {
  "kernelspec": {
   "display_name": "venv",
   "language": "python",
   "name": "python3"
  },
  "language_info": {
   "codemirror_mode": {
    "name": "ipython",
    "version": 3
   },
   "file_extension": ".py",
   "mimetype": "text/x-python",
   "name": "python",
   "nbconvert_exporter": "python",
   "pygments_lexer": "ipython3",
   "version": "3.12.3"
  }
 },
 "nbformat": 4,
 "nbformat_minor": 2
}
