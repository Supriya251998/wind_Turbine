{
 "cells": [
  {
   "cell_type": "code",
   "execution_count": 31,
   "metadata": {},
   "outputs": [],
   "source": [
    "import shap\n",
    "import pandas as pd\n",
    "import pickle\n",
    "import copy\n",
    "import matplotlib.pyplot as plt\n",
    "import seaborn as sns\n",
    "import numpy as np\n",
    "from alibi.explainers import AnchorTabular\n",
    "import time\n",
    "from sklearn.preprocessing import LabelEncoder\n",
    "from sklearn.model_selection import  train_test_split\n",
    "from sklearn.feature_selection import SelectFromModel\n",
    "import warnings\n",
    "warnings.filterwarnings(\"ignore\")"
   ]
  },
  {
   "cell_type": "code",
   "execution_count": 6,
   "metadata": {},
   "outputs": [],
   "source": [
    "import sys\n",
    "import os\n",
    "sys.path.append(os.path.abspath('/Users/supriyasindigerekumaraswmamy/Desktop/Thesis/wind_Turbine'))\n",
    "\n",
    "from utils.helper import *\n",
    "failures = load_failures_data('../data/model_data/failures.csv')\n",
    "components = failures['component'].unique()\n",
    "component_data = load_all_component_data(components)\n",
    "data_splits = prepare_all_data_for_training(component_data, \"target_class\")\n",
    "models = load_all_models(components, \"xgb\")\n",
    "selected_features_data = fit_and_select_features(models, data_splits)\n",
    "models = retrain_models_on_selected_features(models, selected_features_data, data_splits)"
   ]
  },
  {
   "cell_type": "code",
   "execution_count": 7,
   "metadata": {},
   "outputs": [],
   "source": [
    "for component in components:\n",
    "    globals()[f\"{component}_predit_fn\"] = lambda x: models[component].predict(x)\n",
    "    globals()[f\"{component}_explainer\"] = AnchorTabular(globals()[f\"{component}_predit_fn\"], selected_features_data[component][2])\n",
    "    globals()[f\"{component}_explainer\"].fit(selected_features_data[component][0].to_numpy())\n"
   ]
  },
  {
   "cell_type": "code",
   "execution_count": 8,
   "metadata": {},
   "outputs": [],
   "source": [
    "def time_convert(sec):\n",
    "  mins = sec // 60\n",
    "  sec = sec % 60\n",
    "  hours = mins // 60\n",
    "  mins = mins % 60\n",
    "  return \"Time Lapsed = {0}:{1}:{2}\".format(int(hours),int(mins),sec)"
   ]
  },
  {
   "cell_type": "code",
   "execution_count": 9,
   "metadata": {},
   "outputs": [],
   "source": [
    "for component in components:\n",
    "    globals()[f\"{component}_test_np\"] = selected_features_data[component][1].to_numpy()\n",
    "    globals()[f\"{component}_test_length\"] = globals()[f\"{component}_test_np\"].shape[0]\n",
    "    globals()[f\"anchors_{component}\"] =[ ]\n",
    "    \n"
   ]
  },
  {
   "cell_type": "code",
   "execution_count": null,
   "metadata": {},
   "outputs": [],
   "source": [
    "start_time = time.time()\n",
    "for component in components:\n",
    "    for i in range(globals()[f\"{component}_test_length\"]):\n",
    "        explanation = globals()[f\"{component}_explainer\"].explain(globals()[f\"{component}_test_np\"][i],threshold=0.95)\n",
    "        globals()[f\"anchors_{component}\"].append(explanation)\n",
    "        current_time = time.time()\n",
    "        time_lapsed = current_time - start_time\n",
    "        print(\"{} von {} Schritten abgeschlossen. Zeit: {}\".format(i, globals()[f\"{component}_test_length\"], time_convert(time_lapsed)), end=\"\\r\", flush=True)\n",
    "    print(f\"{component} done\")\n",
    "    print(time_convert(time.time() - start_time))"
   ]
  },
  {
   "cell_type": "markdown",
   "metadata": {},
   "source": [
    "# Save Anchors as JSON"
   ]
  },
  {
   "cell_type": "code",
   "execution_count": 30,
   "metadata": {},
   "outputs": [],
   "source": [
    "anchors_list = []\n",
    "for component in components:\n",
    "   for index , elem in enumerate(globals()[f\"anchors_{component}\"]):\n",
    "\n",
    "    anchor = ' AND '.join(elem[\"data\"][\"anchor\"])  # Assuming this is a list of strings\n",
    "    precision = float(elem[\"data\"][\"precision\"])\n",
    "    coverage = float(elem[\"data\"][\"coverage\"])\n",
    "    anchor_data = {\n",
    "        \"id\": index,\n",
    "        \"component\": component,\n",
    "        \"anchor\": anchor,\n",
    "        \"precision\": round(precision, 2),\n",
    "        \"coverage\": round(coverage, 2)\n",
    "    }\n",
    "    anchors_list.append(anchor_data)\n",
    "import json\n",
    "json_output = json.dumps(anchors_list, indent=4)\n",
    "with open('anchors_output.json', 'w') as json_file:\n",
    "    json.dump(anchors_list, json_file, indent=4)\n"
   ]
  }
 ],
 "metadata": {
  "kernelspec": {
   "display_name": "venv",
   "language": "python",
   "name": "python3"
  },
  "language_info": {
   "codemirror_mode": {
    "name": "ipython",
    "version": 3
   },
   "file_extension": ".py",
   "mimetype": "text/x-python",
   "name": "python",
   "nbconvert_exporter": "python",
   "pygments_lexer": "ipython3",
   "version": "3.12.3"
  }
 },
 "nbformat": 4,
 "nbformat_minor": 2
}
