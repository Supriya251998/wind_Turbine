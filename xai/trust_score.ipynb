{
 "cells": [
  {
   "cell_type": "code",
   "execution_count": 1,
   "metadata": {},
   "outputs": [
    {
     "name": "stderr",
     "output_type": "stream",
     "text": [
      "/Users/supriyasindigerekumaraswmamy/Desktop/Thesis/wind_Turbine/venv/lib/python3.12/site-packages/tqdm/auto.py:21: TqdmWarning: IProgress not found. Please update jupyter and ipywidgets. See https://ipywidgets.readthedocs.io/en/stable/user_install.html\n",
      "  from .autonotebook import tqdm as notebook_tqdm\n",
      "2024-07-11 18:41:02.894657: I tensorflow/core/platform/cpu_feature_guard.cc:210] This TensorFlow binary is optimized to use available CPU instructions in performance-critical operations.\n",
      "To enable the following instructions: AVX2 FMA, in other operations, rebuild TensorFlow with the appropriate compiler flags.\n"
     ]
    }
   ],
   "source": [
    "import shap\n",
    "import pandas as pd\n",
    "import pickle\n",
    "import copy\n",
    "import matplotlib.pyplot as plt\n",
    "import seaborn as sns\n",
    "import numpy as np\n",
    "from alibi.explainers import AnchorTabular\n",
    "import time\n",
    "from sklearn.preprocessing import LabelEncoder\n",
    "from sklearn.model_selection import  train_test_split\n",
    "from sklearn.feature_selection import SelectFromModel\n",
    "from alibi.confidence import TrustScore"
   ]
  },
  {
   "cell_type": "code",
   "execution_count": 2,
   "metadata": {},
   "outputs": [],
   "source": [
    "import warnings\n",
    "warnings.filterwarnings(\"ignore\")"
   ]
  },
  {
   "cell_type": "code",
   "execution_count": 3,
   "metadata": {},
   "outputs": [],
   "source": [
    "failures = pd.read_csv('../data/model_data/failures.csv',sep=',')\n",
    "components = failures['component'].unique()"
   ]
  },
  {
   "cell_type": "code",
   "execution_count": 4,
   "metadata": {},
   "outputs": [],
   "source": [
    "encoder = LabelEncoder()\n",
    "for component in components:\n",
    "    globals()[f\"{component}_df\"] = pd.read_csv(f'../data/model_data/labelled_data_{component}.csv',sep=',')\n",
    "    globals()[f\"{component}_df\"]['turbine_id'] = encoder.fit_transform(['turbine_id']*globals()[f\"{component}_df\"].shape[0])\n",
    "    # set the date as the index\n",
    "    globals()[f\"{component}_df\"] = globals()[f\"{component}_df\"].set_index('timestamp')"
   ]
  },
  {
   "cell_type": "code",
   "execution_count": 6,
   "metadata": {},
   "outputs": [],
   "source": [
    "class_target_name = \"target_class\"\n",
    "for component in components:\n",
    "    X = globals()[f\"{component}_df\"].drop(columns=['component',class_target_name])\n",
    "    y = globals()[f\"{component}_df\"][class_target_name]\n",
    "    X_train, X_test, y_train, y_test = train_test_split(X, y, test_size=0.3, random_state=42)\n",
    "    globals()[f\"{component}_X_train\"] = X_train\n",
    "    globals()[f\"{component}_X_test\"] = X_test\n",
    "    globals()[f\"{component}_y_train\"] = y_train\n",
    "    globals()[f\"{component}_y_test\"] = y_test"
   ]
  },
  {
   "cell_type": "code",
   "execution_count": 7,
   "metadata": {},
   "outputs": [],
   "source": [
    "model_name = \"xgb\""
   ]
  },
  {
   "cell_type": "code",
   "execution_count": 9,
   "metadata": {},
   "outputs": [],
   "source": [
    "for component in components:\n",
    "    with open ('../main_pipeline/models/selected-{}.pickle'.format(component), 'rb') as file:\n",
    "        globals()[f\"{model_name}_{component}\"] = pickle.load(file)\n"
   ]
  },
  {
   "cell_type": "code",
   "execution_count": 10,
   "metadata": {},
   "outputs": [],
   "source": [
    "for component in components:\n",
    "    globals()[f\"{model_name}_{component}\"].fit(globals()[f\"{component}_X_train\"], globals()[f\"{component}_y_train\"])\n",
    "    globals()[f\"{component}_params\"] = globals()[f\"{model_name}_{component}\"].get_params()\n",
    "    globals()[f\"{component}_selector\"] = SelectFromModel(globals()[f\"{model_name}_{component}\"], threshold=-np.inf, prefit=True, max_features=globals()[f\"{component}_params\"]['max_features'])\n",
    "    globals()[f\"{component}_selected_features\"] = globals()[f\"{component}_X_train\"].columns[globals()[f\"{component}_selector\"].get_support()]\n",
    "    globals()[f\"{component}_selected_features_train\"] = globals()[f\"{component}_X_train\"][globals()[f\"{component}_selected_features\"]]\n",
    "    globals()[f\"{component}_selected_features_test\"] = globals()[f\"{component}_X_test\"][globals()[f\"{component}_selected_features\"]]\n",
    "    globals()[f\"{component}_selected_features_train\"].reset_index(drop=True, inplace=True)\n",
    "    globals()[f\"{component}_selected_features_test\"].reset_index(drop=True, inplace=True)\n",
    "\n",
    "    globals()[f\"{model_name}_{component}\"].fit(globals()[f\"{component}_selected_features_train\"], globals()[f\"{component}_y_train\"])"
   ]
  },
  {
   "cell_type": "code",
   "execution_count": 12,
   "metadata": {},
   "outputs": [
    {
     "data": {
      "text/plain": [
       "2"
      ]
     },
     "execution_count": 12,
     "metadata": {},
     "output_type": "execute_result"
    }
   ],
   "source": [
    "classes = xgb_GEARBOX.classes_; len(classes)"
   ]
  },
  {
   "cell_type": "code",
   "execution_count": 40,
   "metadata": {},
   "outputs": [],
   "source": [
    "\n",
    "ts = TrustScore(alpha=.05,\n",
    "                filter_type='distance_knn',\n",
    "                k_filter=10,\n",
    "                leaf_size=40,\n",
    "                metric='euclidean',\n",
    "                dist_filter_type='point')\n",
    "\n",
    "ts.fit(TRANSFORMER_selected_features_train.to_numpy(), TRANSFORMER_y_train.to_numpy(), classes=len(classes))\n",
    "score = ts.score(TRANSFORMER_selected_features_test.to_numpy(), TRANSFORMER_y_test.to_numpy())\n",
    "\n",
    "\n",
    "    "
   ]
  },
  {
   "cell_type": "code",
   "execution_count": null,
   "metadata": {},
   "outputs": [],
   "source": [
    "HY"
   ]
  },
  {
   "cell_type": "code",
   "execution_count": 13,
   "metadata": {},
   "outputs": [],
   "source": [
    "for component in components:\n",
    "    globals()[f\"{component}_ts\"] = TrustScore(alpha=.05,\n",
    "                filter_type='distance_knn',\n",
    "                k_filter=10,\n",
    "                leaf_size=40,\n",
    "                metric='euclidean',\n",
    "                dist_filter_type='point')\n",
    "    globals()[f\"{component}_ts\"].fit(globals()[f\"{component}_selected_features_train\"].to_numpy(), globals()[f\"{component}_y_train\"].to_numpy(), classes=len(classes))\n",
    "\n",
    "GEARBOX_scores = GEARBOX_ts.score(GEARBOX_selected_features_train.to_numpy(), GEARBOX_y_train.to_numpy(),k=3)\n",
    "GENERATOR_scores = GENERATOR_ts.score(GENERATOR_selected_features_train.to_numpy(), GENERATOR_y_train.to_numpy(),k=3)\n",
    "TRANSFORMER_scores = TRANSFORMER_ts.score(TRANSFORMER_selected_features_train.to_numpy(), TRANSFORMER_y_train.to_numpy(),k=3)\n",
    "GENERATOR_BEARING_scores = GENERATOR_BEARING_ts.score(GENERATOR_BEARING_selected_features_train.to_numpy(), GENERATOR_BEARING_y_train.to_numpy(),k=3)\n",
    "HYDRAULIC_GROUP_scores = HYDRAULIC_GROUP_ts.score(HYDRAULIC_GROUP_selected_features_train.to_numpy(), HYDRAULIC_GROUP_y_train.to_numpy(),k=3)\n"
   ]
  },
  {
   "cell_type": "code",
   "execution_count": 14,
   "metadata": {},
   "outputs": [],
   "source": [
    "def detect_and_replace_outliers(arr, threshold):\n",
    "    inlier_array = []\n",
    "    outlier_array = []\n",
    "    mean_val = np.mean(arr)\n",
    "    std_dev = np.std(arr)\n",
    "    upper_threshold = mean_val + threshold * std_dev\n",
    "\n",
    "    for i, val in enumerate(arr):\n",
    "        if val > upper_threshold:\n",
    "            outlier_array.append({\"index\": i, \"value\": arr[i]})\n",
    "        else:\n",
    "            inlier_array.append({\"index\": i, \"value\": arr[i]})\n",
    "\n",
    "    return inlier_array, outlier_array"
   ]
  },
  {
   "cell_type": "code",
   "execution_count": null,
   "metadata": {},
   "outputs": [],
   "source": []
  },
  {
   "cell_type": "code",
   "execution_count": 50,
   "metadata": {},
   "outputs": [
    {
     "data": {
      "text/plain": [
       "array(['GEARBOX', 'GENERATOR', 'HYDRAULIC_GROUP', 'GENERATOR_BEARING',\n",
       "       'TRANSFORMER'], dtype=object)"
      ]
     },
     "execution_count": 50,
     "metadata": {},
     "output_type": "execute_result"
    }
   ],
   "source": [
    "components"
   ]
  },
  {
   "cell_type": "code",
   "execution_count": 15,
   "metadata": {},
   "outputs": [],
   "source": [
    "for component in components:\n",
    "   globals()[f\"{component}_normal\"], globals()[f\"{component}_extremes\"] = detect_and_replace_outliers(globals()[f\"{component}_scores\"][0].tolist(), 3)\n"
   ]
  },
  {
   "cell_type": "code",
   "execution_count": 17,
   "metadata": {},
   "outputs": [],
   "source": [
    "def highlight_scatterplot(df, feature, highlight_indexes):\n",
    "    # Create a new column in the DataFrame for the color\n",
    "    df['color'] = 'blue'  # default color\n",
    "    df.loc[highlight_indexes, 'color'] = 'red'  # highlight color\n",
    "\n",
    "    plt.figure(figsize=(10, 6))\n",
    "\n",
    "    # Scatterplot\n",
    "    plt.scatter(df.index, df[feature], color=df['color'])\n",
    "    plt.title('Scatterplot of Feature with Highlighted Points')\n",
    "    plt.xlabel('Index')\n",
    "    plt.ylabel(feature)\n",
    "\n",
    "    # Remove the color column from the dataframe\n",
    "    df = df.drop('color', axis=1)\n",
    "\n",
    "    plt.show()"
   ]
  }
 ],
 "metadata": {
  "kernelspec": {
   "display_name": "venv",
   "language": "python",
   "name": "python3"
  },
  "language_info": {
   "codemirror_mode": {
    "name": "ipython",
    "version": 3
   },
   "file_extension": ".py",
   "mimetype": "text/x-python",
   "name": "python",
   "nbconvert_exporter": "python",
   "pygments_lexer": "ipython3",
   "version": "3.12.3"
  }
 },
 "nbformat": 4,
 "nbformat_minor": 2
}
