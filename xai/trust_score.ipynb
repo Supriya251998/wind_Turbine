{
 "cells": [
  {
   "cell_type": "code",
   "execution_count": 28,
   "metadata": {},
   "outputs": [],
   "source": [
    "import shap\n",
    "import pandas as pd\n",
    "import pickle\n",
    "import copy\n",
    "import matplotlib.pyplot as plt\n",
    "import seaborn as sns\n",
    "import numpy as np\n",
    "\n",
    "from sklearn.preprocessing import LabelEncoder\n",
    "from sklearn.model_selection import  train_test_split\n",
    "from sklearn.feature_selection import SelectFromModel\n",
    "from alibi.confidence import TrustScore\n",
    "import warnings\n",
    "warnings.filterwarnings(\"ignore\")\n",
    "import json"
   ]
  },
  {
   "cell_type": "code",
   "execution_count": 2,
   "metadata": {},
   "outputs": [],
   "source": [
    "# load the failures data from util\n",
    "import sys\n",
    "import os\n",
    "sys.path.append(os.path.abspath('/Users/supriyasindigerekumaraswmamy/Desktop/Thesis/wind_Turbine'))\n",
    "\n",
    "from utils.helper import *\n",
    "failures = load_failures_data('../data/model_data/failures.csv')\n",
    "components = failures['component'].unique()\n",
    "component_data = load_all_component_data(components)\n",
    "data_splits = prepare_all_data_for_training(component_data, \"target_class\")\n",
    "models = load_all_models(components, \"xgb\")\n",
    "selected_features_data = fit_and_select_features(models, data_splits)\n",
    "models = retrain_models_on_selected_features(models, selected_features_data, data_splits)"
   ]
  },
  {
   "cell_type": "code",
   "execution_count": 3,
   "metadata": {},
   "outputs": [
    {
     "data": {
      "text/plain": [
       "2"
      ]
     },
     "execution_count": 3,
     "metadata": {},
     "output_type": "execute_result"
    }
   ],
   "source": [
    "classes = models['GEARBOX'].classes_; len(classes)"
   ]
  },
  {
   "cell_type": "code",
   "execution_count": 4,
   "metadata": {},
   "outputs": [],
   "source": [
    "for component in components:\n",
    "    globals()[f\"{component}_ts\"] = TrustScore(alpha=.05,\n",
    "                filter_type='distance_knn',\n",
    "                k_filter=10,\n",
    "                leaf_size=40,\n",
    "                metric='euclidean',\n",
    "                dist_filter_type='point')\n",
    "    globals()[f\"{component}_ts\"].fit(selected_features_data[component][0].to_numpy(), data_splits[component][2].to_numpy(), classes=len(classes))\n",
    "    globals()[f\"{component}_scores\"] = globals()[f\"{component}_ts\"].score(selected_features_data[component][1].to_numpy(), data_splits[component][3].to_numpy())\n",
    "\n"
   ]
  },
  {
   "cell_type": "code",
   "execution_count": 9,
   "metadata": {},
   "outputs": [],
   "source": [
    "def detect_and_replace_outliers(arr, threshold):\n",
    "    inlier_array = []\n",
    "    outlier_array = []\n",
    "    mean_val = np.mean(arr)\n",
    "    std_dev = np.std(arr)\n",
    "    upper_threshold = mean_val + threshold * std_dev\n",
    "\n",
    "    for i, val in enumerate(arr):\n",
    "        if val > upper_threshold:\n",
    "            outlier_array.append({\"index\": i, \"value\": arr[i]})\n",
    "        else:\n",
    "            inlier_array.append({\"index\": i, \"value\": arr[i]})\n",
    "\n",
    "    return inlier_array, outlier_array"
   ]
  },
  {
   "cell_type": "code",
   "execution_count": 10,
   "metadata": {},
   "outputs": [],
   "source": [
    "for component in components:\n",
    "   globals()[f\"{component}_normal\"], globals()[f\"{component}_extremes\"] = detect_and_replace_outliers(globals()[f\"{component}_scores\"][0].tolist(), 3)\n"
   ]
  },
  {
   "cell_type": "markdown",
   "metadata": {},
   "source": [
    "# Save Trust Score as JSON"
   ]
  },
  {
   "cell_type": "code",
   "execution_count": 31,
   "metadata": {},
   "outputs": [],
   "source": [
    "normal_TrustScores = []\n",
    "for component in components:\n",
    "    for elem in globals()[f\"{component}_normal\"]:\n",
    "        TrustScores = {\n",
    "        \"Trust_score\" : elem[\"value\"],\n",
    "        \"index\" :elem[\"index\"],\n",
    "        \"component\" : component\n",
    "        }\n",
    "        normal_TrustScores.append(TrustScores)\n",
    "\n",
    "\n",
    "extreme_TrustScores = []\n",
    "for component in components:\n",
    "    for elem in globals()[f\"{component}_extremes\"]:\n",
    "        TrustScores = {\n",
    "        \"Trust_score\" : elem[\"value\"],\n",
    "        \"index\" :elem[\"index\"],\n",
    "        \"component\" : component\n",
    "        }\n",
    "        extreme_TrustScores.append(TrustScores)\n",
    "\n",
    "\n",
    "with open('JSON/normal_TrustScores.json', 'w') as json_file:\n",
    "    json.dump(normal_TrustScores, json_file, indent=4)\n",
    "\n",
    "with open('JSON/extreme_TrustScores.json', 'w') as json_file:\n",
    "    json.dump(extreme_TrustScores, json_file, indent=4)\n",
    "\n",
    "\n",
    "\n",
    "        \n",
    "\n"
   ]
  }
 ],
 "metadata": {
  "kernelspec": {
   "display_name": "venv",
   "language": "python",
   "name": "python3"
  },
  "language_info": {
   "codemirror_mode": {
    "name": "ipython",
    "version": 3
   },
   "file_extension": ".py",
   "mimetype": "text/x-python",
   "name": "python",
   "nbconvert_exporter": "python",
   "pygments_lexer": "ipython3",
   "version": "3.12.3"
  }
 },
 "nbformat": 4,
 "nbformat_minor": 2
}
