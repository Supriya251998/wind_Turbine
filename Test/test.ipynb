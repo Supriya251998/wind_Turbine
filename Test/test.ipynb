{
 "cells": [
  {
   "cell_type": "code",
   "execution_count": 111,
   "metadata": {},
   "outputs": [],
   "source": [
    "from alibi.explainers import AnchorTabular\n",
    "import time\n",
    "from sklearn.model_selection import  train_test_split\n",
    "import warnings\n",
    "warnings.filterwarnings(\"ignore\")\n",
    "import sys\n",
    "import os\n",
    "from sklearn.model_selection import  cross_val_score\n",
    "from sklearn.metrics import precision_score, recall_score, f1_score\n",
    "sys.path.append(os.path.abspath('/Users/supriyasindigerekumaraswmamy/Desktop/Thesis/wind_Turbine'))\n",
    "from utils.test_helper import *"
   ]
  },
  {
   "cell_type": "code",
   "execution_count": 2,
   "metadata": {},
   "outputs": [
    {
     "name": "stdout",
     "output_type": "stream",
     "text": [
      "[{'Run ID': 'TRANSFORMER', 'F1 Score': 0.9480572308904689, 'Hyperparameters': {'n_estimators': '50', 'max_depth': '80', 'learning_rate': '0.16002527282698065', 'max_features': '20'}}, {'Run ID': 'GENERATOR_BEARING', 'F1 Score': 0.9696340848604224, 'Hyperparameters': {'n_estimators': '100', 'max_depth': '40', 'learning_rate': '0.05738725558581813', 'max_features': '19'}}, {'Run ID': 'HYDRAULIC_GROUP', 'F1 Score': 0.8964187657682071, 'Hyperparameters': {'n_estimators': '200', 'max_depth': '80', 'learning_rate': '0.033460062769701523', 'max_features': '19'}}, {'Run ID': 'GENERATOR', 'F1 Score': 0.9221797301177146, 'Hyperparameters': {'n_estimators': '200', 'max_depth': '10', 'learning_rate': '0.0909594363986538', 'max_features': '20'}}, {'Run ID': 'GEARBOX', 'F1 Score': 0.9348200731743932, 'Hyperparameters': {'n_estimators': '100', 'max_depth': '20', 'learning_rate': '0.17209028508813332', 'max_features': '13'}}]\n"
     ]
    }
   ],
   "source": [
    "import mlflow\n",
    "mlflow.set_tracking_uri(\"http://localhost:80\") \n",
    "client = mlflow.tracking.MlflowClient()\n",
    "experiment = client.get_experiment_by_name(\"predictive_maintenance_system\")\n",
    "    \n",
    "\n",
    "\n",
    "experiment_id = experiment.experiment_id\n",
    "runs = client.search_runs(experiment_ids=[experiment_id])\n",
    "data = []\n",
    "for run in runs:\n",
    "        data.append({\n",
    "            \"Run ID\": run.data.tags[\"mlflow.runName\"],\n",
    "            \"F1 Score\": run.data.metrics.get(\"score\"),\n",
    "            \"Hyperparameters\": run.data.params\n",
    "        }) \n",
    "print(data)\n"
   ]
  },
  {
   "cell_type": "code",
   "execution_count": 70,
   "metadata": {},
   "outputs": [],
   "source": [
    "def get_data():\n",
    "    failures = load_failures_data('../data/model_data/failures.csv')\n",
    "    components = failures['component'].unique()\n",
    "    component_data = load_all_component_data(components)\n",
    "    data_splits , ui_data_splits= prepare_all_data_for_training(component_data, \"target_class\")\n",
    "    models = load_all_models(components, \"xgb\")\n",
    "    selected_features_data = fit_and_select_features(models, data_splits)\n",
    "    models = retrain_models_on_selected_features(models, selected_features_data, data_splits)\n",
    "\n",
    "    return models, components,selected_features_data,data_splits,ui_data_splits"
   ]
  },
  {
   "cell_type": "code",
   "execution_count": 71,
   "metadata": {},
   "outputs": [],
   "source": [
    "models,components, selected_features, data_splits ,ui_data= get_data()"
   ]
  },
  {
   "cell_type": "code",
   "execution_count": 148,
   "metadata": {},
   "outputs": [],
   "source": [
    "def get_data():\n",
    "    failures = load_failures_data('../data/model_data/failures.csv')\n",
    "    components = failures['component'].unique()\n",
    "    component_data = load_all_component_data(components)\n",
    "    data_splits, ui_data_splits = prepare_all_data_for_training(component_data, \"target_class\")\n",
    "    models = load_all_models(components, \"xgb\")\n",
    "    selected_features_data = fit_and_select_features(models, data_splits)\n",
    "    models = retrain_models_on_selected_features(models, selected_features_data, data_splits)\n",
    "    \n",
    "    for component in components:\n",
    "        # Predict and assign the class label\n",
    "        y_predict = models[component].predict(selected_features_data[component][1])\n",
    "        selected_features_data[component][1]['target_class'] = y_predict\n",
    "        selected_features_data[component][1]['target_class'] = selected_features_data[component][1]['target_class']\n",
    "        \n",
    "        # Assign turbine_id and convert timestamps\n",
    "        selected_features_data[component][1]['turbine_id'] = ui_data_splits[component][1]['turbine_id']\n",
    "        print(type(ui_data_splits[component][1]['turbine_id'] ))\n",
    "        ui_data_splits[component][1]['timestamp'] = pd.to_datetime(ui_data_splits[component][1]['timestamp'])\n",
    "        \n",
    "        \n",
    "        # Convert to datetime and extract the date\n",
    "        selected_features_data[component][1]['timestamp'] = ui_data_splits[component][1]['timestamp']\n",
    "    return selected_features_data, components\n"
   ]
  },
  {
   "cell_type": "code",
   "execution_count": 149,
   "metadata": {},
   "outputs": [
    {
     "name": "stdout",
     "output_type": "stream",
     "text": [
      "<class 'pandas.core.series.Series'>\n",
      "<class 'pandas.core.series.Series'>\n",
      "<class 'pandas.core.series.Series'>\n",
      "<class 'pandas.core.series.Series'>\n",
      "<class 'pandas.core.series.Series'>\n"
     ]
    }
   ],
   "source": [
    "selected_features,component = get_data()"
   ]
  },
  {
   "cell_type": "code",
   "execution_count": 152,
   "metadata": {},
   "outputs": [
    {
     "name": "stdout",
     "output_type": "stream",
     "text": [
      "      generator_rotations_per_minute_min  \\\n",
      "1131                              1219.4   \n",
      "229                                  0.0   \n",
      "495                                  0.0   \n",
      "1116                                 0.0   \n",
      "1128                                 0.0   \n",
      "497                                  0.0   \n",
      "1078                                 0.0   \n",
      "522                                  0.0   \n",
      "802                                  0.0   \n",
      "1091                                 0.0   \n",
      "231                                  0.0   \n",
      "755                                 39.3   \n",
      "1117                                 0.0   \n",
      "185                                  0.0   \n",
      "115                                  0.0   \n",
      "\n",
      "      generator_bearing_temperature_average  minimum_ambient_wind_speed  \\\n",
      "1131                              64.659722                         1.7   \n",
      "229                               48.729167                         0.4   \n",
      "495                               47.840278                         0.4   \n",
      "1116                              46.902778                         0.4   \n",
      "1128                              53.430556                         0.4   \n",
      "497                               38.972222                         0.4   \n",
      "1078                              53.548611                         0.6   \n",
      "522                               46.006944                         0.4   \n",
      "802                               49.170732                         0.4   \n",
      "1091                              45.347222                         0.4   \n",
      "231                               42.687500                         0.4   \n",
      "755                               38.006944                         0.4   \n",
      "1117                              50.375000                         0.5   \n",
      "185                               46.951389                         0.4   \n",
      "115                               44.729167                         0.4   \n",
      "\n",
      "      average_absolute_ambient_wind_direction  average_ambient_temperature  \\\n",
      "1131                                93.527778                    24.187500   \n",
      "229                                226.212500                    27.854167   \n",
      "495                                260.587500                    22.520833   \n",
      "1116                               122.366667                    24.354167   \n",
      "1128                               103.181944                    25.756944   \n",
      "497                                174.520139                    24.361111   \n",
      "1078                               103.040278                    28.500000   \n",
      "522                                179.156944                    25.083333   \n",
      "802                                281.956098                    29.121951   \n",
      "1091                               130.836806                    25.791667   \n",
      "231                                235.559028                    24.993056   \n",
      "755                                277.202083                    19.347222   \n",
      "1117                                88.045139                    23.944444   \n",
      "185                                219.578472                    24.215278   \n",
      "115                                102.826389                    20.083333   \n",
      "\n",
      "      average_controller_top_temperature  average_controller_hub_temperature  \\\n",
      "1131                           47.597222                           32.131944   \n",
      "229                            42.763889                           36.902778   \n",
      "495                            38.791667                           31.833333   \n",
      "1116                           43.326389                           33.090278   \n",
      "1128                           45.006944                           33.500000   \n",
      "497                            37.729167                           34.562500   \n",
      "1078                           46.722222                           35.555556   \n",
      "522                            41.201389                           35.180556   \n",
      "802                            37.609756                           34.439024   \n",
      "1091                           42.180556                           34.083333   \n",
      "231                            38.708333                           34.611111   \n",
      "755                            37.576389                           29.888889   \n",
      "1117                           42.486111                           32.527778   \n",
      "185                            40.458333                           33.902778   \n",
      "115                            38.222222                           30.284722   \n",
      "\n",
      "      average_grid_rotor_inverter_phase_2_temperature  \\\n",
      "1131                                        44.451389   \n",
      "229                                         38.673611   \n",
      "495                                         37.402778   \n",
      "1116                                        37.694444   \n",
      "1128                                        40.229167   \n",
      "497                                         34.902778   \n",
      "1078                                        39.631944   \n",
      "522                                         37.381944   \n",
      "802                                         36.439024   \n",
      "1091                                        37.444444   \n",
      "231                                         35.236111   \n",
      "755                                         36.236111   \n",
      "1117                                        38.881944   \n",
      "185                                         36.597222   \n",
      "115                                         36.437500   \n",
      "\n",
      "      average_grid_rotor_inverter_phase_3_temperature  \\\n",
      "1131                                        43.611111   \n",
      "229                                         38.687500   \n",
      "495                                         37.145833   \n",
      "1116                                        37.666667   \n",
      "1128                                        39.944444   \n",
      "497                                         34.902778   \n",
      "1078                                        39.534722   \n",
      "522                                         37.270833   \n",
      "802                                         34.073171   \n",
      "1091                                        37.513889   \n",
      "231                                         35.277778   \n",
      "755                                         34.527778   \n",
      "1117                                        38.736111   \n",
      "185                                         36.562500   \n",
      "115                                         36.333333   \n",
      "\n",
      "      grid_production_frequency_average  grid_production_power_maximum  \\\n",
      "1131                          49.998611                         2099.5   \n",
      "229                           49.998611                         1303.8   \n",
      "495                           50.000000                         2097.9   \n",
      "1116                          50.001389                         1957.6   \n",
      "1128                          50.000694                         2100.8   \n",
      "497                           49.996528                          869.9   \n",
      "1078                          50.000000                         1608.1   \n",
      "522                           49.999306                         1692.9   \n",
      "802                           50.000000                           -1.0   \n",
      "1091                          49.999306                         1976.4   \n",
      "231                           49.999306                         1015.5   \n",
      "755                           50.000000                         1394.3   \n",
      "1117                          49.999306                         2100.0   \n",
      "185                           50.002083                         1517.5   \n",
      "115                           50.000000                         2072.3   \n",
      "\n",
      "      generator_bearing2_temperature_average  max_windspeed3  target_class  \\\n",
      "1131                               57.638889            21.1             1   \n",
      "229                                43.215278            11.7             1   \n",
      "495                                46.534722            13.2             1   \n",
      "1116                               45.527778            11.5             1   \n",
      "1128                               50.347222            18.2             1   \n",
      "497                                37.819444             9.4             1   \n",
      "1078                               50.826389            11.1             1   \n",
      "522                                41.444444            11.2             1   \n",
      "802                                48.878049            10.9             1   \n",
      "1091                               44.541667            12.7             1   \n",
      "231                                37.680556             9.6             1   \n",
      "755                                32.930556            11.2             1   \n",
      "1117                               48.715278            13.4             1   \n",
      "185                                47.548611            13.9             1   \n",
      "115                                44.006944            12.2             1   \n",
      "\n",
      "     turbine_id                 timestamp  \n",
      "1131        T06 2017-10-15 00:00:00+00:00  \n",
      "229         T01 2016-08-17 00:00:00+00:00  \n",
      "495         T01 2017-09-09 00:00:00+00:00  \n",
      "1116        T06 2017-09-30 00:00:00+00:00  \n",
      "1128        T06 2017-10-12 00:00:00+00:00  \n",
      "497         T01 2017-09-11 00:00:00+00:00  \n",
      "1078        T06 2017-08-23 00:00:00+00:00  \n",
      "522         T01 2017-10-06 00:00:00+00:00  \n",
      "802         T06 2016-07-21 00:00:00+00:00  \n",
      "1091        T06 2017-09-05 00:00:00+00:00  \n",
      "231         T01 2016-08-19 00:00:00+00:00  \n",
      "755         T06 2016-05-26 00:00:00+00:00  \n",
      "1117        T06 2017-10-01 00:00:00+00:00  \n",
      "185         T01 2016-07-04 00:00:00+00:00  \n",
      "115         T01 2016-04-25 00:00:00+00:00  \n"
     ]
    }
   ],
   "source": [
    "#print the instances qithselected_features['GEARBOX'][1]['target_class'] == 1\n",
    "print(selected_features['GEARBOX'][1][selected_features['GEARBOX'][1]['target_class'] == 1])"
   ]
  },
  {
   "cell_type": "code",
   "execution_count": 49,
   "metadata": {},
   "outputs": [],
   "source": [
    "def is_faulty(turbine_id, date_selected, component_data):\n",
    "    # Convert component data to records for iteration\n",
    "    for record in component_data.to_dict('records'):\n",
    "        # Check if turbine_id and date match, and if target_class is 1 (indicating a fault)\n",
    "        if (record['turbine_id'] == turbine_id and \n",
    "            record['timestamp'] == date_selected and \n",
    "            record['target_class'] == 1):\n",
    "            return True\n",
    "    return False\n"
   ]
  },
  {
   "cell_type": "code",
   "execution_count": 50,
   "metadata": {},
   "outputs": [],
   "source": [
    "faulty = is_faulty('T07', '2017-09-05', selected_features['GEARBOX'][1])"
   ]
  },
  {
   "cell_type": "code",
   "execution_count": 18,
   "metadata": {},
   "outputs": [],
   "source": [
    "turnin_id = selected_features['GEARBOX'][1]['turbine_id']\n",
    "date = pd.to_datetime(selected_features['GEARBOX'][1]['timestamp'])"
   ]
  },
  {
   "cell_type": "code",
   "execution_count": 31,
   "metadata": {},
   "outputs": [],
   "source": [
    "date_col = pd.to_datetime(selected_features['GEARBOX'][1]['timestamp'])\n",
    "date_col = date_col.dt.date"
   ]
  },
  {
   "cell_type": "code",
   "execution_count": 13,
   "metadata": {},
   "outputs": [],
   "source": [
    "def select_features(models, data_splits):\n",
    "    selected_features_data = {}\n",
    "    for component, model in models.items():\n",
    "        X_train, X_test, y_train, y_test = data_splits[component]\n",
    "        model.fit(X_train, y_train)\n",
    "        selector =  model.named_steps['feature_selection']\n",
    "        selected_features = X_train.columns[selector.get_support()]\n",
    "        selected_features_train = X_train[selected_features]\n",
    "        selected_features_train.reset_index(drop=True, inplace=True)\n",
    "        selected_features_test = X_test[selected_features]\n",
    "        selected_features_test.reset_index(drop=True, inplace=True)\n",
    "        selected_features_data[component] = (selected_features_train, selected_features_test, selected_features)\n",
    "    return selected_features_data"
   ]
  },
  {
   "cell_type": "code",
   "execution_count": 14,
   "metadata": {},
   "outputs": [],
   "source": [
    "selected_features = select_features(models, data_splits)"
   ]
  },
  {
   "cell_type": "code",
   "execution_count": 5,
   "metadata": {},
   "outputs": [],
   "source": [
    "for component in components:\n",
    "    globals()[f\"{component}_X_train\"] = selected_features[component][0]\n",
    "    globals()[f\"{component}_X_test\"] = selected_features[component][1]\n",
    "    globals()[f\"{component}_y_train\"] = data_splits[component][2]\n",
    "    globals()[f\"{component}_y_test\"] = data_splits[component][3]"
   ]
  },
  {
   "cell_type": "code",
   "execution_count": 6,
   "metadata": {},
   "outputs": [],
   "source": [
    "for component in components:\n",
    "    models[component].fit(selected_features[component][0] ,globals()[f\"{component}_y_train\"])"
   ]
  },
  {
   "cell_type": "code",
   "execution_count": 7,
   "metadata": {},
   "outputs": [
    {
     "name": "stdout",
     "output_type": "stream",
     "text": [
      "[[679  10]\n",
      " [ 36   4]]\n",
      "[[639  12]\n",
      " [ 44  34]]\n",
      "[[617  17]\n",
      " [ 60  35]]\n",
      "[[688   8]\n",
      " [ 18  15]]\n",
      "[[659  18]\n",
      " [ 23  29]]\n"
     ]
    }
   ],
   "source": [
    "# confusion matrix\n",
    "from sklearn.metrics import confusion_matrix\n",
    "\n",
    "for component in components:\n",
    "    globals()[f\"{component}_y_pred\"] = models[component].predict(selected_features[component][1])\n",
    "    globals()[f\"{component}_conf_matrix\"] = confusion_matrix(globals()[f\"{component}_y_test\"], globals()[f\"{component}_y_pred\"])\n",
    "    print(globals()[f\"{component}_conf_matrix\"])"
   ]
  },
  {
   "cell_type": "code",
   "execution_count": 8,
   "metadata": {},
   "outputs": [],
   "source": [
    "def train_run(X, y, X_valid, y_valid, model):\n",
    "    clf = model\n",
    "    clf.fit(X, y)\n",
    "    y_valid_pred = clf.predict(X_valid)\n",
    "    y_train_pred = clf.predict(X)\n",
    "    f1_train = f1_score(y, y_train_pred, average=\"weighted\")\n",
    "    precision_train = precision_score(y, y_train_pred, average=\"weighted\")\n",
    "    recall_train = recall_score(y, y_train_pred, average=\"weighted\")\n",
    "    f1 = f1_score(y_valid, y_valid_pred, average=\"weighted\")\n",
    "    precision = precision_score(y_valid, y_valid_pred, average=\"weighted\")\n",
    "    recall = recall_score(y_valid, y_valid_pred, average=\"weighted\")\n",
    "\n",
    "    scores = {\n",
    "        \"f1_train\": f1_train,\n",
    "        \"precision_train\": precision_train,\n",
    "        \"recall_train\": recall_train,\n",
    "        \"f1\": f1,\n",
    "        \"precision\": precision,\n",
    "        \"recall\": recall,\n",
    "    }\n",
    "\n",
    "    return scores"
   ]
  },
  {
   "cell_type": "code",
   "execution_count": 9,
   "metadata": {},
   "outputs": [
    {
     "name": "stdout",
     "output_type": "stream",
     "text": [
      "GEARBOX_scores: {'f1_train': 1.0, 'precision_train': 1.0, 'recall_train': 1.0, 'f1': 0.9222933495910178, 'precision': 0.9132203872944614, 'recall': 0.9368998628257887}\n",
      "GENERATOR_scores: {'f1_train': 1.0, 'precision_train': 1.0, 'recall_train': 1.0, 'f1': 0.9141918487192088, 'precision': 0.9145592144368501, 'recall': 0.9231824417009602}\n",
      "HYDRAULIC_GROUP_scores: {'f1_train': 1.0, 'precision_train': 1.0, 'recall_train': 1.0, 'f1': 0.8806596320227418, 'precision': 0.8803199427549775, 'recall': 0.8943758573388203}\n",
      "GENERATOR_BEARING_scores: {'f1_train': 1.0, 'precision_train': 1.0, 'recall_train': 1.0, 'f1': 0.9612774980899882, 'precision': 0.9599131641118201, 'recall': 0.9643347050754458}\n",
      "TRANSFORMER_scores: {'f1_train': 1.0, 'precision_train': 1.0, 'recall_train': 1.0, 'f1': 0.9424417963921411, 'precision': 0.9413631386609856, 'recall': 0.943758573388203}\n"
     ]
    }
   ],
   "source": [
    "for component in components:\n",
    "    globals()[f\"{component}_scores\"] = train_run(selected_features[component][0], globals()[f\"{component}_y_train\"], selected_features[component][1], globals()[f\"{component}_y_test\"], models[component])\n",
    "    print(f\"{component}_scores: {globals()[f'{component}_scores']}\")"
   ]
  }
 ],
 "metadata": {
  "kernelspec": {
   "display_name": "venv",
   "language": "python",
   "name": "python3"
  },
  "language_info": {
   "codemirror_mode": {
    "name": "ipython",
    "version": 3
   },
   "file_extension": ".py",
   "mimetype": "text/x-python",
   "name": "python",
   "nbconvert_exporter": "python",
   "pygments_lexer": "ipython3",
   "version": "3.12.3"
  }
 },
 "nbformat": 4,
 "nbformat_minor": 2
}
