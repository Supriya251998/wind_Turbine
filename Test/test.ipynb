{
 "cells": [
  {
   "cell_type": "code",
   "execution_count": 1,
   "metadata": {},
   "outputs": [
    {
     "name": "stderr",
     "output_type": "stream",
     "text": [
      "2024-08-16 09:36:19.414980: I tensorflow/core/platform/cpu_feature_guard.cc:210] This TensorFlow binary is optimized to use available CPU instructions in performance-critical operations.\n",
      "To enable the following instructions: AVX2 FMA, in other operations, rebuild TensorFlow with the appropriate compiler flags.\n",
      "/Users/supriyasindigerekumaraswmamy/Desktop/Thesis/wind_Turbine/venv/lib/python3.12/site-packages/tqdm/auto.py:21: TqdmWarning: IProgress not found. Please update jupyter and ipywidgets. See https://ipywidgets.readthedocs.io/en/stable/user_install.html\n",
      "  from .autonotebook import tqdm as notebook_tqdm\n"
     ]
    }
   ],
   "source": [
    "from alibi.explainers import AnchorTabular\n",
    "import time\n",
    "from sklearn.model_selection import  train_test_split\n",
    "import warnings\n",
    "warnings.filterwarnings(\"ignore\")\n",
    "import sys\n",
    "import os\n",
    "from sklearn.model_selection import  cross_val_score\n",
    "from sklearn.metrics import precision_score, recall_score, f1_score\n",
    "sys.path.append(os.path.abspath('/Users/supriyasindigerekumaraswmamy/Desktop/Thesis/wind_Turbine'))\n",
    "from utils.helper import *"
   ]
  },
  {
   "cell_type": "code",
   "execution_count": 2,
   "metadata": {},
   "outputs": [],
   "source": [
    "def get_data():\n",
    "    failures = load_failures_data('../data/model_data/failures.csv')\n",
    "    components = failures['component'].unique()\n",
    "    component_data = load_all_component_data(components)\n",
    "    data_splits = prepare_all_data_for_training(component_data, \"target_class\")\n",
    "    models = load_all_models(components, \"xgb\")\n",
    "    selected_features_data = fit_and_select_features(models, data_splits)\n",
    "    models = retrain_models_on_selected_features(models, selected_features_data, data_splits)\n",
    "\n",
    "    return models, components,selected_features_data,data_splits"
   ]
  },
  {
   "cell_type": "code",
   "execution_count": null,
   "metadata": {},
   "outputs": [],
   "source": [
    "models,components, selected_features,data_splits = get_data()"
   ]
  },
  {
   "cell_type": "code",
   "execution_count": 13,
   "metadata": {},
   "outputs": [],
   "source": [
    "def select_features(models, data_splits):\n",
    "    selected_features_data = {}\n",
    "    for component, model in models.items():\n",
    "        X_train, X_test, y_train, y_test = data_splits[component]\n",
    "        model.fit(X_train, y_train)\n",
    "        selector =  model.named_steps['feature_selection']\n",
    "        selected_features = X_train.columns[selector.get_support()]\n",
    "        selected_features_train = X_train[selected_features]\n",
    "        selected_features_train.reset_index(drop=True, inplace=True)\n",
    "        selected_features_test = X_test[selected_features]\n",
    "        selected_features_test.reset_index(drop=True, inplace=True)\n",
    "        selected_features_data[component] = (selected_features_train, selected_features_test, selected_features)\n",
    "    return selected_features_data"
   ]
  },
  {
   "cell_type": "code",
   "execution_count": 14,
   "metadata": {},
   "outputs": [],
   "source": [
    "selected_features = select_features(models, data_splits)"
   ]
  },
  {
   "cell_type": "code",
   "execution_count": 6,
   "metadata": {},
   "outputs": [],
   "source": [
    "for component in components:\n",
    "    globals()[f\"{component}_X_train\"] = selected_features[component][0]\n",
    "    globals()[f\"{component}_X_test\"] = selected_features[component][1]\n",
    "    globals()[f\"{component}_y_train\"] = data_splits[component][2]\n",
    "    globals()[f\"{component}_y_test\"] = data_splits[component][3]"
   ]
  },
  {
   "cell_type": "code",
   "execution_count": 7,
   "metadata": {},
   "outputs": [],
   "source": [
    "for component in components:\n",
    "    models[component].fit(selected_features[component][0] ,globals()[f\"{component}_y_train\"])"
   ]
  },
  {
   "cell_type": "code",
   "execution_count": 8,
   "metadata": {},
   "outputs": [
    {
     "name": "stdout",
     "output_type": "stream",
     "text": [
      "[[679  10]\n",
      " [ 36   4]]\n",
      "[[639  12]\n",
      " [ 44  34]]\n",
      "[[617  17]\n",
      " [ 60  35]]\n",
      "[[688   8]\n",
      " [ 18  15]]\n",
      "[[659  18]\n",
      " [ 23  29]]\n"
     ]
    }
   ],
   "source": [
    "# confusion matrix\n",
    "from sklearn.metrics import confusion_matrix\n",
    "\n",
    "for component in components:\n",
    "    globals()[f\"{component}_y_pred\"] = models[component].predict(selected_features[component][1])\n",
    "    globals()[f\"{component}_conf_matrix\"] = confusion_matrix(globals()[f\"{component}_y_test\"], globals()[f\"{component}_y_pred\"])\n",
    "    print(globals()[f\"{component}_conf_matrix\"])"
   ]
  },
  {
   "cell_type": "code",
   "execution_count": 9,
   "metadata": {},
   "outputs": [],
   "source": [
    "def train_run(X, y, X_valid, y_valid, model):\n",
    "    clf = model\n",
    "    clf.fit(X, y)\n",
    "    y_valid_pred = clf.predict(X_valid)\n",
    "    y_train_pred = clf.predict(X)\n",
    "    f1_train = f1_score(y, y_train_pred, average=\"weighted\")\n",
    "    precision_train = precision_score(y, y_train_pred, average=\"weighted\")\n",
    "    recall_train = recall_score(y, y_train_pred, average=\"weighted\")\n",
    "    f1 = f1_score(y_valid, y_valid_pred, average=\"weighted\")\n",
    "    precision = precision_score(y_valid, y_valid_pred, average=\"weighted\")\n",
    "    recall = recall_score(y_valid, y_valid_pred, average=\"weighted\")\n",
    "\n",
    "    scores = {\n",
    "        \"f1_train\": f1_train,\n",
    "        \"precision_train\": precision_train,\n",
    "        \"recall_train\": recall_train,\n",
    "        \"f1\": f1,\n",
    "        \"precision\": precision,\n",
    "        \"recall\": recall,\n",
    "    }\n",
    "\n",
    "    return scores"
   ]
  },
  {
   "cell_type": "code",
   "execution_count": 10,
   "metadata": {},
   "outputs": [
    {
     "name": "stdout",
     "output_type": "stream",
     "text": [
      "GEARBOX_scores: {'f1_train': 1.0, 'precision_train': 1.0, 'recall_train': 1.0, 'f1': 0.9222933495910178, 'precision': 0.9132203872944614, 'recall': 0.9368998628257887}\n",
      "GENERATOR_scores: {'f1_train': 1.0, 'precision_train': 1.0, 'recall_train': 1.0, 'f1': 0.9141918487192088, 'precision': 0.9145592144368501, 'recall': 0.9231824417009602}\n",
      "HYDRAULIC_GROUP_scores: {'f1_train': 1.0, 'precision_train': 1.0, 'recall_train': 1.0, 'f1': 0.8806596320227418, 'precision': 0.8803199427549775, 'recall': 0.8943758573388203}\n",
      "GENERATOR_BEARING_scores: {'f1_train': 1.0, 'precision_train': 1.0, 'recall_train': 1.0, 'f1': 0.9612774980899882, 'precision': 0.9599131641118201, 'recall': 0.9643347050754458}\n",
      "TRANSFORMER_scores: {'f1_train': 1.0, 'precision_train': 1.0, 'recall_train': 1.0, 'f1': 0.9424417963921411, 'precision': 0.9413631386609856, 'recall': 0.943758573388203}\n"
     ]
    }
   ],
   "source": [
    "for component in components:\n",
    "    globals()[f\"{component}_scores\"] = train_run(selected_features[component][0], globals()[f\"{component}_y_train\"], selected_features[component][1], globals()[f\"{component}_y_test\"], models[component])\n",
    "    print(f\"{component}_scores: {globals()[f'{component}_scores']}\")"
   ]
  }
 ],
 "metadata": {
  "kernelspec": {
   "display_name": "venv",
   "language": "python",
   "name": "python3"
  },
  "language_info": {
   "codemirror_mode": {
    "name": "ipython",
    "version": 3
   },
   "file_extension": ".py",
   "mimetype": "text/x-python",
   "name": "python",
   "nbconvert_exporter": "python",
   "pygments_lexer": "ipython3",
   "version": "3.12.3"
  }
 },
 "nbformat": 4,
 "nbformat_minor": 2
}
