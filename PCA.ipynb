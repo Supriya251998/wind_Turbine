{
 "cells": [
  {
   "cell_type": "code",
   "execution_count": 3,
   "metadata": {},
   "outputs": [],
   "source": [
    "import pandas as pd\n",
    "import numpy as np\n",
    "import matplotlib.pyplot as plt\n",
    "from sklearn.feature_selection import VarianceThreshold\n",
    "from datetime import datetime, timedelta, timezone\n",
    "from sklearn.model_selection import train_test_split\n",
    "from sklearn.preprocessing import StandardScaler, LabelEncoder\n",
    "from sklearn.decomposition import PCA\n",
    "from sklearn.metrics import classification_report, accuracy_score, confusion_matrix, precision_score, recall_score, f1_score\n",
    "import seaborn as sns\n",
    "from sklearn.ensemble import RandomForestClassifier\n",
    "from sklearn.ensemble import IsolationForest\n",
    "from sklearn.linear_model import LogisticRegression\n",
    "from sklearn.tree import DecisionTreeClassifier\n",
    "from sklearn.metrics import precision_recall_curve, auc"
   ]
  },
  {
   "cell_type": "markdown",
   "metadata": {},
   "source": [
    "# PCA for anamoly detection"
   ]
  },
  {
   "cell_type": "markdown",
   "metadata": {},
   "source": [
    "Data preparation for PCA"
   ]
  },
  {
   "cell_type": "code",
   "execution_count": 53,
   "metadata": {},
   "outputs": [
    {
     "name": "stdout",
     "output_type": "stream",
     "text": [
      "              precision    recall  f1-score   support\n",
      "\n",
      "           0       0.60      0.60      0.60      1462\n",
      "           1       0.55      0.55      0.55      1305\n",
      "\n",
      "    accuracy                           0.58      2767\n",
      "   macro avg       0.57      0.57      0.57      2767\n",
      "weighted avg       0.58      0.58      0.58      2767\n",
      "\n",
      "Number of actual faulty instances: 1305\n",
      "Number of identified faulty instances: 1314\n",
      "Number of correctly identified faulty instances: 722\n"
     ]
    }
   ],
   "source": [
    "encoder = LabelEncoder()\n",
    "labelled_data=pd.read_csv('./data/labeled_data.csv')\n",
    "class_target_name = \"Failure (Target)\"\n",
    "labelled_data=labelled_data.set_index('Timestamp')\n",
    "labelled_data['Turbine_ID'] = encoder.fit_transform(labelled_data['Turbine_ID'])\n",
    "scaled_features=labelled_data.drop(columns=[class_target_name,'components'])\n",
    "\n",
    "\n",
    "pca = PCA(n_components=2)\n",
    "pca.fit(scaled_features)\n",
    "pca_projection = pca.transform(scaled_features)\n",
    "    \n",
    "    # Reconstruct the data from PCA space back to original space\n",
    "reconstructed_data = pca.inverse_transform(pca_projection)\n",
    "reconstruction_error = np.mean((scaled_features - reconstructed_data) ** 2, axis=1)\n",
    "threshold = np.percentile(reconstruction_error, 52.5)\n",
    "\n",
    "pca_projection = pca.transform(scaled_features)\n",
    "reconstructed_data = pca.inverse_transform(pca_projection)\n",
    "reconstruction_error = np.mean((scaled_features - reconstructed_data) ** 2, axis=1)\n",
    "labelled_data['reconstruction_error'] = reconstruction_error\n",
    "labelled_data['predicted_faulty'] = labelled_data['reconstruction_error'] > threshold\n",
    "faulty_original_data = labelled_data[labelled_data['predicted_faulty'] == True]\n",
    "\n",
    "# Evaluate the model\n",
    "print(classification_report(labelled_data[class_target_name], labelled_data['predicted_faulty']))\n",
    "print(f\"Number of actual faulty instances: {labelled_data[class_target_name].sum()}\")\n",
    "print(f\"Number of identified faulty instances: {labelled_data['predicted_faulty'].sum()}\")\n",
    "print(f\"Number of correctly identified faulty instances: {faulty_original_data[class_target_name].sum()}\")\n",
    "\n",
    "\n",
    "\n"
   ]
  },
  {
   "cell_type": "code",
   "execution_count": 65,
   "metadata": {},
   "outputs": [
    {
     "name": "stdout",
     "output_type": "stream",
     "text": [
      "              precision    recall  f1-score   support\n",
      "\n",
      "           0       1.00      1.00      1.00      1175\n",
      "\n",
      "    accuracy                           1.00      1175\n",
      "   macro avg       1.00      1.00      1.00      1175\n",
      "weighted avg       1.00      1.00      1.00      1175\n",
      "\n",
      "Number of actual faulty instances: 0\n",
      "Number of identified faulty instances: 0\n",
      "Number of correctly identified faulty instances: 0\n",
      "              precision    recall  f1-score   support\n",
      "\n",
      "           0       0.59      0.76      0.66       287\n",
      "           1       0.62      0.42      0.50       267\n",
      "\n",
      "    accuracy                           0.60       554\n",
      "   macro avg       0.60      0.59      0.58       554\n",
      "weighted avg       0.60      0.60      0.58       554\n",
      "\n",
      "Number of actual faulty instances: 267\n",
      "Number of identified faulty instances: 180\n",
      "Number of correctly identified faulty instances: 112\n"
     ]
    },
    {
     "name": "stderr",
     "output_type": "stream",
     "text": [
      "/var/folders/7b/1zsp53s91z97clkc70s5xcym0000gn/T/ipykernel_17560/1429712394.py:36: SettingWithCopyWarning: \n",
      "A value is trying to be set on a copy of a slice from a DataFrame.\n",
      "Try using .loc[row_indexer,col_indexer] = value instead\n",
      "\n",
      "See the caveats in the documentation: https://pandas.pydata.org/pandas-docs/stable/user_guide/indexing.html#returning-a-view-versus-a-copy\n",
      "  train_non_faulty['reconstrcution_error'] = reconstruction_error\n",
      "/var/folders/7b/1zsp53s91z97clkc70s5xcym0000gn/T/ipykernel_17560/1429712394.py:37: SettingWithCopyWarning: \n",
      "A value is trying to be set on a copy of a slice from a DataFrame.\n",
      "Try using .loc[row_indexer,col_indexer] = value instead\n",
      "\n",
      "See the caveats in the documentation: https://pandas.pydata.org/pandas-docs/stable/user_guide/indexing.html#returning-a-view-versus-a-copy\n",
      "  train_non_faulty['predicted_faulty'] = train_non_faulty['reconstrcution_error'] > threshold\n"
     ]
    }
   ],
   "source": [
    "train = pd.read_csv('./data/first_clean/train.csv')\n",
    "train=train.set_index('Timestamp')\n",
    "encoder=LabelEncoder()\n",
    "train['Turbine_ID']=encoder.fit_transform(train['Turbine_ID'])\n",
    "\n",
    "\n",
    "test = pd.read_csv('./data/first_clean/test.csv')\n",
    "test=test.set_index('Timestamp')\n",
    "test['Turbine_ID']=encoder.transform(test['Turbine_ID'])\n",
    "\n",
    "#Drop the target column and the components column\n",
    "\n",
    "class_target_name = \"Failure (Target)\"\n",
    "\n",
    "train_non_faulty=train[train[class_target_name]==0]\n",
    "X_train = train_non_faulty.drop(columns=[class_target_name,'components'])\n",
    "X_test= test.drop(columns=[class_target_name,'components'])\n",
    "\n",
    "\n",
    "y_failure_train=train_non_faulty[class_target_name]\n",
    "y_failure_test=test[class_target_name]\n",
    "\n",
    "\n",
    "y_component_train=train_non_faulty['components']\n",
    "y_component_test=test['components']\n",
    "\n",
    "#PCA\n",
    "\n",
    "pca=PCA(n_components=2)\n",
    "X_train_pca = pca.fit_transform(X_train)  \n",
    "X_train_reconstrcuted = pca.inverse_transform(X_train_pca)\n",
    "reconstruction_error = np.mean((X_train - X_train_reconstrcuted) ** 2).mean()\n",
    "threshold = reconstruction_error.mean() + 1.5 * reconstruction_error.std()\n",
    "train_non_faulty['reconstrcution_error'] = reconstruction_error\n",
    "train_non_faulty['predicted_faulty'] = train_non_faulty['reconstrcution_error'] > threshold\n",
    "faulty_original_data = train_non_faulty[train_non_faulty['predicted_faulty'] == True]\n",
    "\n",
    "print(classification_report(train_non_faulty[class_target_name], train_non_faulty['predicted_faulty']))\n",
    "print(f\"Number of actual faulty instances: {train_non_faulty[class_target_name].sum()}\")\n",
    "print(f\"Number of identified faulty instances: {train_non_faulty['predicted_faulty'].sum()}\")\n",
    "print(f\"Number of correctly identified faulty instances: {faulty_original_data[class_target_name].sum()}\")\n",
    "\n",
    "#Test data\n",
    "X_test_pca = pca.transform(X_test)\n",
    "X_test_reconstructed = pca.inverse_transform(X_test_pca)\n",
    "reconstruction_error = ((X_test - X_test_reconstructed) ** 2).mean(axis=1)\n",
    "test['reconstruction_error'] = reconstruction_error\n",
    "test['predicted_faulty'] = test['reconstruction_error'] > threshold\n",
    "faulty_original_data_test = test[test['predicted_faulty'] == True]\n",
    "\n",
    "print(classification_report(test[class_target_name], test['predicted_faulty']))\n",
    "print(f\"Number of actual faulty instances: {test[class_target_name].sum()}\")\n",
    "print(f\"Number of identified faulty instances: {test['predicted_faulty'].sum()}\")\n",
    "print(f\"Number of correctly identified faulty instances: {faulty_original_data_test[class_target_name].sum()}\")\n",
    "\n"
   ]
  },
  {
   "cell_type": "code",
   "execution_count": 66,
   "metadata": {},
   "outputs": [
    {
     "name": "stdout",
     "output_type": "stream",
     "text": [
      "(554, 108)\n"
     ]
    }
   ],
   "source": [
    "print(test.shape)"
   ]
  },
  {
   "cell_type": "code",
   "execution_count": 62,
   "metadata": {},
   "outputs": [],
   "source": [
    "# confusion matrix\n",
    "conf_matrix = confusion_matrix(test[class_target_name], test['predicted_faulty'])"
   ]
  },
  {
   "cell_type": "code",
   "execution_count": 64,
   "metadata": {},
   "outputs": [
    {
     "data": {
      "text/plain": [
       "<Axes: >"
      ]
     },
     "execution_count": 64,
     "metadata": {},
     "output_type": "execute_result"
    },
    {
     "data": {
      "image/png": "[encoded data removed]",
      "text/plain": [
       "<Figure size 1000x700 with 2 Axes>"
      ]
     },
     "metadata": {},
     "output_type": "display_data"
    }
   ],
   "source": [
    "#plot confusion matrix\n",
    "plt.figure(figsize=(10, 7))\n",
    "sns.heatmap(conf_matrix, annot=True, fmt='d', cmap='Blues')"
   ]
  },
  {
   "cell_type": "code",
   "execution_count": 68,
   "metadata": {},
   "outputs": [],
   "source": [
    "test.to_csv('./data/test_anamoly.csv', index=False)"
   ]
  }
 ],
 "metadata": {
  "kernelspec": {
   "display_name": "venv",
   "language": "python",
   "name": "python3"
  },
  "language_info": {
   "codemirror_mode": {
    "name": "ipython",
    "version": 3
   },
   "file_extension": ".py",
   "mimetype": "text/x-python",
   "name": "python",
   "nbconvert_exporter": "python",
   "pygments_lexer": "ipython3",
   "version": "3.12.3"
  }
 },
 "nbformat": 4,
 "nbformat_minor": 2
}
