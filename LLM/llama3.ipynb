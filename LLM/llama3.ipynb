{
 "cells": [
  {
   "cell_type": "code",
   "execution_count": 3,
   "metadata": {},
   "outputs": [
    {
     "name": "stderr",
     "output_type": "stream",
     "text": [
      "/Users/supriyasindigerekumaraswmamy/Desktop/Thesis/wind_Turbine/venv/lib/python3.12/site-packages/tqdm/auto.py:21: TqdmWarning: IProgress not found. Please update jupyter and ipywidgets. See https://ipywidgets.readthedocs.io/en/stable/user_install.html\n",
      "  from .autonotebook import tqdm as notebook_tqdm\n",
      "2024-07-23 14:41:05.548092: I tensorflow/core/platform/cpu_feature_guard.cc:210] This TensorFlow binary is optimized to use available CPU instructions in performance-critical operations.\n",
      "To enable the following instructions: AVX2 FMA, in other operations, rebuild TensorFlow with the appropriate compiler flags.\n"
     ]
    }
   ],
   "source": [
    "\n",
    "from transformers import pipeline\n",
    "import warnings\n",
    "import requests\n",
    "import os\n",
    "import streamlit as st\n",
    "import ollama\n",
    "\n",
    "warnings.filterwarnings('ignore')\n",
    "HUGGINGFACEHUB_API_TOKEN = os.getenv(\"HUGGINGFACEHUB_API_TOKEN\")"
   ]
  },
  {
   "cell_type": "code",
   "execution_count": 6,
   "metadata": {},
   "outputs": [],
   "source": [
    "def generate_story(scenario):\n",
    "    prompt = f\"\"\"You are an AI assistant that transforms technical outputs from explainable AI (XAI) algorithms into a format that is easy for humans to understand. Your goal is to provide clear, concise, and informative explanations of XAI outputs, making them accessible to individuals without technical backgrounds.\n",
    "\n",
    "Instructions:\n",
    "\n",
    "Component Explanation: Describe the component mentioned in the output, explaining its role and importance.\n",
    "Anchor Condition: Simplify the condition specified by the anchor, explaining what it means in practical terms.\n",
    "Precision: Explain what the precision value indicates about the model's predictions.\n",
    "Coverage: Describe what the coverage value signifies regarding the model’s applicability.\n",
    "Overall Implications: Summarize the implications of these values for understanding the model’s behavior and potential actions.\n",
    "\n",
    "Format:\n",
    "\n",
    "Component: Explanation of the component's role and importance.\n",
    "Anchor Condition: Simplified explanation of the condition.\n",
    "Precision: Explanation of the precision value.\n",
    "Coverage: Explanation of the coverage value.\n",
    "Overall Implications: Summary of the implications.\n",
    "\n",
    "Input:\n",
    "{scenario}\n",
    "\n",
    "Transformed Explanation:\n",
    "\"\"\"\n",
    "    response = ollama.chat(model='llama3', options={'temperature': 0}, messages=[{\n",
    "        'role': 'user',\n",
    "        'content': prompt,\n",
    "    }])\n",
    "    story = response['message']['content']\n",
    "    print(story)\n",
    "    return story"
   ]
  },
  {
   "cell_type": "code",
   "execution_count": 7,
   "metadata": {},
   "outputs": [
    {
     "name": "stdout",
     "output_type": "stream",
     "text": [
      "Here is the transformed explanation:\n",
      "\n",
      "**Component:** The GEARBOX component plays a crucial role in the overall functioning of the system. It's responsible for transmitting power and torque to other components, ensuring smooth operation.\n",
      "\n",
      "**Anchor Condition:** The anchor condition states that if the maximum rotor rotations per minute exceed 14.80, it indicates a potential issue with the gearbox's performance or efficiency. In practical terms, this means that if the gearbox is operating at an unusually high speed, it may be experiencing problems that need attention.\n",
      "\n",
      "**Precision:** With a precision value of 0.99, the model is extremely confident in its prediction that the gearbox is non-faulty. This suggests that the model has accurately identified the correct outcome based on the input data.\n",
      "\n",
      "**Coverage:** The coverage value of 0.72 indicates that the model's predictions are applicable to approximately 72% of the possible scenarios or inputs. This means that while the model is reliable, it may not be suitable for all situations or edge cases.\n",
      "\n",
      "**Overall Implications:** These values collectively suggest that the model has high confidence in its prediction and is well-suited for most scenarios where the gearbox is non-faulty. However, there may be some limitations to its applicability, particularly in extreme or unusual conditions. As a result, it's essential to consider these factors when interpreting the model's output and making decisions based on its predictions.\n"
     ]
    }
   ],
   "source": [
    "scenario = {\n",
    "        \"id\": 0,\n",
    "        \"component\": \"GEARBOX\",\n",
    "        \"anchor\": \"rotor_rotations_per_minute_max > 14.80\",\n",
    "        \"precision\": 0.99,\n",
    "        \"coverage\": 0.72,\n",
    "        \"prediction\": \"non-faulty\"\n",
    "    }\n",
    "story =generate_story(scenario)"
   ]
  }
 ],
 "metadata": {
  "kernelspec": {
   "display_name": "venv",
   "language": "python",
   "name": "python3"
  },
  "language_info": {
   "codemirror_mode": {
    "name": "ipython",
    "version": 3
   },
   "file_extension": ".py",
   "mimetype": "text/x-python",
   "name": "python",
   "nbconvert_exporter": "python",
   "pygments_lexer": "ipython3",
   "version": "3.12.3"
  }
 },
 "nbformat": 4,
 "nbformat_minor": 2
}
