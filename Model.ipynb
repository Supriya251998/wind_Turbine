{
 "cells": [
  {
   "cell_type": "code",
   "execution_count": 2,
   "metadata": {},
   "outputs": [],
   "source": [
    "import pandas as pd\n",
    "import numpy as np\n",
    "import matplotlib.pyplot as plt\n",
    "from sklearn.feature_selection import VarianceThreshold\n",
    "from datetime import datetime, timedelta, timezone\n",
    "from sklearn.model_selection import train_test_split\n",
    "from sklearn.preprocessing import StandardScaler, LabelEncoder\n",
    "from sklearn.decomposition import PCA\n",
    "from sklearn.metrics import classification_report, accuracy_score, confusion_matrix, precision_score, recall_score, f1_score\n",
    "import seaborn as sns\n",
    "from sklearn.ensemble import RandomForestClassifier\n",
    "from sklearn.ensemble import IsolationForest\n",
    "from sklearn.linear_model import LogisticRegression\n",
    "from sklearn.tree import DecisionTreeClassifier"
   ]
  },
  {
   "cell_type": "code",
   "execution_count": 9,
   "metadata": {},
   "outputs": [],
   "source": [
    "train = pd.read_csv('./data/first_clean/train.csv')\n",
    "train=train.set_index('Timestamp')\n",
    "encoder=LabelEncoder()\n",
    "train['Turbine_ID']=encoder.fit_transform(train['Turbine_ID'])\n",
    "\n",
    "test = pd.read_csv('./data/first_clean/test.csv')\n",
    "test=test.set_index('Timestamp')\n",
    "test['Turbine_ID']=encoder.transform(test['Turbine_ID'])\n",
    "\n",
    "class_target_name = \"Failure (Target)\"\n",
    "\n",
    "X_train = train.drop(columns=[class_target_name,'components'])\n",
    "X_test= test.drop(columns=[class_target_name,'components'])\n",
    "\n",
    "y_failure_train=train[class_target_name]\n",
    "y_failure_test=test[class_target_name]\n",
    "\n",
    "y_component_train=train['components']\n",
    "y_component_test=test['components']"
   ]
  },
  {
   "cell_type": "code",
   "execution_count": null,
   "metadata": {},
   "outputs": [],
   "source": [
    "components = y_component_train.unique()\n",
    "\n",
    "for component in components:\n",
    "    X_train_component = X_train[y_failure_train == 1]\n",
    "    X_test_component = X_test[y_failure_test == 1]\n",
    "    y_train_component = y_component_train[y_failure_train == 1] == component\n",
    "    y_test_component = y_component_test[y_failure_test == 1] == component\n",
    "\n",
    "    dt_component = DecisionTreeClassifier()\n",
    "    dt_component.fit(X_train_component, y_train_component)\n",
    "    y_pred_dt = dt_component.predict(X_test_component)\n",
    "    print(f\"\\nDecision Tree (Component {component}):\")\n",
    "    print(\"Accuracy:\", accuracy_score(y_test_component, y_pred_dt))\n",
    "    print(\"Precision:\", precision_score(y_test_component, y_pred_dt))\n",
    "    print(\"Recall:\", recall_score(y_test_component, y_pred_dt))\n",
    "    print(\"F1-score:\", f1_score(y_test_component, y_pred_dt))"
   ]
  }
 ],
 "metadata": {
  "kernelspec": {
   "display_name": "venv",
   "language": "python",
   "name": "python3"
  },
  "language_info": {
   "codemirror_mode": {
    "name": "ipython",
    "version": 3
   },
   "file_extension": ".py",
   "mimetype": "text/x-python",
   "name": "python",
   "nbconvert_exporter": "python",
   "pygments_lexer": "ipython3",
   "version": "3.12.3"
  }
 },
 "nbformat": 4,
 "nbformat_minor": 2
}
