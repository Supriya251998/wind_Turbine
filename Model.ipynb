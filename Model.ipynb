{
 "cells": [
  {
   "cell_type": "code",
   "execution_count": 4,
   "metadata": {},
   "outputs": [],
   "source": [
    "import pandas as pd\n",
    "import numpy as np\n",
    "import matplotlib.pyplot as plt\n",
    "from sklearn.feature_selection import VarianceThreshold\n",
    "from datetime import datetime, timedelta, timezone\n",
    "from sklearn.model_selection import train_test_split\n",
    "from sklearn.preprocessing import StandardScaler, LabelEncoder\n",
    "from sklearn.decomposition import PCA\n",
    "from sklearn.metrics import classification_report, accuracy_score, confusion_matrix, precision_score, recall_score, f1_score\n",
    "import seaborn as sns\n",
    "from sklearn.ensemble import RandomForestClassifier\n",
    "from sklearn.ensemble import IsolationForest\n",
    "from sklearn.linear_model import LogisticRegression\n",
    "from sklearn.tree import DecisionTreeClassifier"
   ]
  },
  {
   "cell_type": "code",
   "execution_count": 3,
   "metadata": {},
   "outputs": [],
   "source": [
    "train = pd.read_csv('./data/first_clean/train.csv')\n",
    "train=train.set_index('Timestamp')\n",
    "encoder=LabelEncoder()\n",
    "train['Turbine_ID']=encoder.fit_transform(train['Turbine_ID'])\n",
    "test = pd.read_csv('./data/first_clean/test.csv')\n",
    "test=test.set_index('Timestamp')\n",
    "test['Turbine_ID']=encoder.transform(test['Turbine_ID'])\n",
    "reg_target_name = \"RUL (Target)\"\n",
    "class_target_name = \"Failure (Target)\"\n",
    "X_train = train.drop(columns=[class_target_name,'components'])\n",
    "X_test= test.drop(columns=[class_target_name,'components'])\n",
    "y_failure_train=train[class_target_name]\n",
    "y_failure_test=test[class_target_name]\n",
    "y_component_train=train['components']\n",
    "y_component_test=test['components']"
   ]
  },
  {
   "cell_type": "code",
   "execution_count": 5,
   "metadata": {},
   "outputs": [
    {
     "name": "stdout",
     "output_type": "stream",
     "text": [
      "\n",
      "Decision Tree (Failure):\n",
      "Accuracy: 0.7849462365591398\n",
      "Precision: 0.7527675276752768\n",
      "Recall: 0.7364620938628159\n",
      "F1-score: 0.7445255474452555\n"
     ]
    }
   ],
   "source": [
    "dt_failure = DecisionTreeClassifier()\n",
    "dt_failure.fit(X_train, y_failure_train)\n",
    "y_pred_dt = dt_failure.predict(X_test)\n",
    "print(\"\\nDecision Tree (Failure):\")\n",
    "print(\"Accuracy:\", accuracy_score(y_failure_test, y_pred_dt))\n",
    "print(\"Precision:\", precision_score(y_failure_test, y_pred_dt))\n",
    "print(\"Recall:\", recall_score(y_failure_test, y_pred_dt))\n",
    "print(\"F1-score:\", f1_score(y_failure_test, y_pred_dt))"
   ]
  },
  {
   "cell_type": "code",
   "execution_count": 6,
   "metadata": {},
   "outputs": [
    {
     "name": "stdout",
     "output_type": "stream",
     "text": [
      "\n",
      "Decision Tree (Component HYDRAULIC_GROUP):\n",
      "Accuracy: 0.9061371841155235\n",
      "Precision: 0.8133333333333334\n",
      "Recall: 0.8356164383561644\n",
      "F1-score: 0.8243243243243243\n",
      "\n",
      "Decision Tree (Component nan):\n",
      "Accuracy: 1.0\n",
      "Precision: 0.0\n",
      "Recall: 0.0\n",
      "F1-score: 0.0\n",
      "\n",
      "Decision Tree (Component GENERATOR):\n",
      "Accuracy: 0.7617328519855595\n",
      "Precision: 0.6626506024096386\n",
      "Recall: 0.5913978494623656\n",
      "F1-score: 0.625\n",
      "\n",
      "Decision Tree (Component GENERATOR_BEARING):\n",
      "Accuracy: 0.8158844765342961\n",
      "Precision: 0.32558139534883723\n",
      "Recall: 0.3888888888888889\n",
      "F1-score: 0.35443037974683544\n"
     ]
    },
    {
     "name": "stderr",
     "output_type": "stream",
     "text": [
      "/Users/supriyasindigerekumaraswmamy/Desktop/Thesis/wind_Turbine/venv/lib/python3.12/site-packages/sklearn/metrics/_classification.py:1517: UndefinedMetricWarning: Precision is ill-defined and being set to 0.0 due to no predicted samples. Use `zero_division` parameter to control this behavior.\n",
      "  _warn_prf(average, modifier, f\"{metric.capitalize()} is\", len(result))\n",
      "/Users/supriyasindigerekumaraswmamy/Desktop/Thesis/wind_Turbine/venv/lib/python3.12/site-packages/sklearn/metrics/_classification.py:1517: UndefinedMetricWarning: Recall is ill-defined and being set to 0.0 due to no true samples. Use `zero_division` parameter to control this behavior.\n",
      "  _warn_prf(average, modifier, f\"{metric.capitalize()} is\", len(result))\n",
      "/Users/supriyasindigerekumaraswmamy/Desktop/Thesis/wind_Turbine/venv/lib/python3.12/site-packages/sklearn/metrics/_classification.py:1517: UndefinedMetricWarning: F-score is ill-defined and being set to 0.0 due to no true nor predicted samples. Use `zero_division` parameter to control this behavior.\n",
      "  _warn_prf(average, modifier, f\"{metric.capitalize()} is\", len(result))\n"
     ]
    },
    {
     "name": "stdout",
     "output_type": "stream",
     "text": [
      "\n",
      "Decision Tree (Component GEARBOX):\n",
      "Accuracy: 0.8772563176895307\n",
      "Precision: 0.5128205128205128\n",
      "Recall: 0.5714285714285714\n",
      "F1-score: 0.5405405405405406\n",
      "\n",
      "Decision Tree (Component TRANSFORMER):\n",
      "Accuracy: 0.8664259927797834\n",
      "Precision: 0.5384615384615384\n",
      "Recall: 0.525\n",
      "F1-score: 0.5316455696202531\n"
     ]
    }
   ],
   "source": [
    "components = y_component_train.unique()\n",
    "\n",
    "for component in components:\n",
    "    X_train_component = X_train[y_failure_train == 1]\n",
    "    X_test_component = X_test[y_failure_test == 1]\n",
    "    y_train_component = y_component_train[y_failure_train == 1] == component\n",
    "    y_test_component = y_component_test[y_failure_test == 1] == component\n",
    "\n",
    "    dt_component = DecisionTreeClassifier()\n",
    "    dt_component.fit(X_train_component, y_train_component)\n",
    "    y_pred_dt = dt_component.predict(X_test_component)\n",
    "    print(f\"\\nDecision Tree (Component {component}):\")\n",
    "    print(\"Accuracy:\", accuracy_score(y_test_component, y_pred_dt))\n",
    "    print(\"Precision:\", precision_score(y_test_component, y_pred_dt))\n",
    "    print(\"Recall:\", recall_score(y_test_component, y_pred_dt))\n",
    "    print(\"F1-score:\", f1_score(y_test_component, y_pred_dt))"
   ]
  },
  {
   "cell_type": "code",
   "execution_count": null,
   "metadata": {},
   "outputs": [],
   "source": [
    "non_faulty_data=labelled_data[labelled_data[class_target_name]==0]\n",
    "\n",
    "#Drop the target column and the components column\n",
    "non_faulty_data = non_faulty_data.drop(columns=[class_target_name,'components'])\n",
    "non_faulty_data = non_faulty_data.set_index('Timestamp')\n",
    "non_faulty_data['Turbine_ID'] = encoder.fit_transform(non_faulty_data['Turbine_ID'])"
   ]
  }
 ],
 "metadata": {
  "kernelspec": {
   "display_name": "venv",
   "language": "python",
   "name": "python3"
  },
  "language_info": {
   "codemirror_mode": {
    "name": "ipython",
    "version": 3
   },
   "file_extension": ".py",
   "mimetype": "text/x-python",
   "name": "python",
   "nbconvert_exporter": "python",
   "pygments_lexer": "ipython3",
   "version": "3.12.3"
  }
 },
 "nbformat": 4,
 "nbformat_minor": 2
}
