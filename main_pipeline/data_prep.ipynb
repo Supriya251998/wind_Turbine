{
 "cells": [
  {
   "cell_type": "code",
   "execution_count": 2,
   "metadata": {},
   "outputs": [],
   "source": [
    "import pandas as pd\n",
    "import numpy as np\n",
    "import matplotlib.pyplot as plt\n",
    "from sklearn.feature_selection import VarianceThreshold\n",
    "from datetime import datetime, timedelta, timezone\n",
    "from sklearn.model_selection import train_test_split"
   ]
  },
  {
   "cell_type": "code",
   "execution_count": 5,
   "metadata": {},
   "outputs": [],
   "source": [
    "failure_2016 = pd.read_csv('../data/init/failures-2016.csv',sep=';')\n",
    "failure_2017 = pd.read_csv('../data/init/failures-2017.csv',sep=';')\n",
    "metmast_2016 = pd.read_csv('../data/init/metmast-2016.csv',sep=';')\n",
    "metmast_2017 = pd.read_csv('../data/init/metmast-2017.csv',sep=';')\n",
    "signals_2016 = pd.read_csv('../data/init/signals-2016.csv', sep=';')\n",
    "signals_2017= pd.read_csv('../data/init/signals-2017.csv', sep=';')\n",
    "\n"
   ]
  },
  {
   "cell_type": "markdown",
   "metadata": {},
   "source": [
    "# 1. Cleaning Signal data"
   ]
  },
  {
   "cell_type": "markdown",
   "metadata": {},
   "source": [
    "Combining signals from both years and aggregating the time series data into recurring once a day."
   ]
  },
  {
   "cell_type": "code",
   "execution_count": 6,
   "metadata": {},
   "outputs": [],
   "source": [
    "def signal_preprocess(signals):\n",
    "    \n",
    "    signals['Timestamp'] = pd.to_datetime(signals['Timestamp'])\n",
    "    signals=signals.set_index('Timestamp')\n",
    "    return signals\n"
   ]
  },
  {
   "cell_type": "code",
   "execution_count": 7,
   "metadata": {},
   "outputs": [],
   "source": [
    "signals=pd.concat([signals_2016, signals_2017], axis=0)\n",
    "signals = signal_preprocess(signals)"
   ]
  },
  {
   "cell_type": "markdown",
   "metadata": {},
   "source": [
    "Drop the columns with low variance"
   ]
  },
  {
   "cell_type": "code",
   "execution_count": 8,
   "metadata": {},
   "outputs": [],
   "source": [
    "def get_signals_with_low_variance(df: pd.DataFrame, threshold=0) -> list:\n",
    "    numerics = ['int16', 'int32', 'int64', 'float16', 'float32', 'float64']\n",
    "    cont_data = df.select_dtypes(include=numerics)\n",
    "    selector = VarianceThreshold(threshold=threshold)\n",
    "    selector.fit(cont_data)\n",
    "    inverted_list = ~np.array(selector.get_support())\n",
    "    return cont_data.columns[inverted_list].tolist()"
   ]
  },
  {
   "cell_type": "code",
   "execution_count": 9,
   "metadata": {},
   "outputs": [],
   "source": [
    "cols_to_drop=get_signals_with_low_variance(signals)\n",
    "signals.drop(cols_to_drop, axis=1, inplace=True)"
   ]
  },
  {
   "cell_type": "markdown",
   "metadata": {},
   "source": [
    "Aggregate the time series dataframe into a daily data frame"
   ]
  },
  {
   "cell_type": "code",
   "execution_count": 10,
   "metadata": {},
   "outputs": [],
   "source": [
    "def aggregate_signals(signals):\n",
    "    agg_signals=signals.groupby('Turbine_ID').resample('D').sum()\n",
    "    agg_signals['Turbine_ID'] = agg_signals.index.get_level_values('Turbine_ID')  \n",
    "    agg_signals=agg_signals.reset_index('Timestamp')\n",
    "    return agg_signals\n"
   ]
  },
  {
   "cell_type": "code",
   "execution_count": 11,
   "metadata": {},
   "outputs": [],
   "source": [
    "agg_signals=aggregate_signals(signals)\n",
    "agg_signals=agg_signals.reset_index(drop=True)"
   ]
  },
  {
   "cell_type": "markdown",
   "metadata": {},
   "source": [
    "Prepare signal for each turbine"
   ]
  },
  {
   "cell_type": "code",
   "execution_count": 50,
   "metadata": {},
   "outputs": [],
   "source": [
    "\"\"\"turbine_names = agg_signals[\"Turbine_ID\"].unique()\n",
    "def create_df_for_each_turbine(signals: pd.DataFrame) -> list[pd.DataFrame]:\n",
    "    turbine_dfs = list()\n",
    "\n",
    "    for turbine in turbine_names:\n",
    "        test = agg_signals[\"Turbine_ID\"]\n",
    "        turbine_df = signals[agg_signals[\"Turbine_ID\"] == turbine]\n",
    "        turbine_df = turbine_df.sort_values(\"Timestamp\")\n",
    "        turbine_df = turbine_df.reset_index()\n",
    "        \n",
    "        turbine_dfs.append(turbine_df)\n",
    "\n",
    "    return turbine_dfs\n",
    "\n",
    "turbine_dfs = create_df_for_each_turbine(agg_signals)\n",
    "#convert list to dataframe\n",
    "#turbine_signals = pd.concat(turbine_dfs, axis=0)\"\"\"\n"
   ]
  },
  {
   "cell_type": "code",
   "execution_count": 12,
   "metadata": {},
   "outputs": [
    {
     "name": "stderr",
     "output_type": "stream",
     "text": [
      "/var/folders/7b/1zsp53s91z97clkc70s5xcym0000gn/T/ipykernel_65225/1721483605.py:4: FutureWarning: DataFrame.fillna with 'method' is deprecated and will raise in a future version. Use obj.ffill() or obj.bfill() instead.\n",
      "  signals_clean=agg_signals.fillna(method='bfill')\n"
     ]
    }
   ],
   "source": [
    "# binary column to indicate if a signal data has any missing values\n",
    "agg_signals['missing_values'] = agg_signals.isnull().any(axis=1).astype(int)\n",
    "#fill the missing valeu with backfill and forwardfill\n",
    "signals_clean=agg_signals.fillna(method='bfill')\n",
    "#signals_clean=signals_clean.reset_index()"
   ]
  },
  {
   "cell_type": "markdown",
   "metadata": {},
   "source": [
    "# 2. Clean Metacast data"
   ]
  },
  {
   "cell_type": "markdown",
   "metadata": {},
   "source": [
    "Combine metamast data for both 2016 and 2017. Aggregate the metamast data into daily time slots"
   ]
  },
  {
   "cell_type": "markdown",
   "metadata": {},
   "source": [
    "Metmast data do not have data from 2017-01-04 to 2017-05-05"
   ]
  },
  {
   "cell_type": "code",
   "execution_count": 13,
   "metadata": {},
   "outputs": [],
   "source": [
    "metmast = pd.concat([metmast_2016, metmast_2017], axis=0)\n",
    "metmast['Timestamp'] = pd.to_datetime(metmast['Timestamp'])\n",
    "metmast=metmast.set_index('Timestamp')\n"
   ]
  },
  {
   "cell_type": "markdown",
   "metadata": {},
   "source": [
    "Drop the columns with low variance"
   ]
  },
  {
   "cell_type": "code",
   "execution_count": 14,
   "metadata": {},
   "outputs": [],
   "source": [
    "cols_to_drop = get_signals_with_low_variance(metmast)  \n",
    "metmast = metmast.drop(cols_to_drop, axis=1)\n",
    "metmast= metmast.drop([\"Min_Winddirection2\", \"Max_Winddirection2\", \"Avg_Winddirection2\", \"Var_Winddirection2\"], axis=1)"
   ]
  },
  {
   "cell_type": "markdown",
   "metadata": {},
   "source": [
    "Aggregate the data according to the columns (with mean or sum)"
   ]
  },
  {
   "cell_type": "code",
   "execution_count": 15,
   "metadata": {},
   "outputs": [],
   "source": [
    "aggregation_rules = {\n",
    "    'Min_Windspeed1': 'sum',\n",
    "    'Max_Windspeed1': 'sum',\n",
    "    'Avg_Windspeed1': 'mean',\n",
    "    'Var_Windspeed1': 'sum',\n",
    "    'Min_Windspeed2': 'sum',\n",
    "    'Max_Windspeed2': 'sum',\n",
    "    'Avg_Windspeed2': 'mean',\n",
    "    'Var_Windspeed2': 'sum',\n",
    "    'Min_AmbientTemp': 'sum',\n",
    "    'Max_AmbientTemp': 'sum',\n",
    "    'Avg_AmbientTemp': 'mean',\n",
    "    'Min_Pressure': 'sum',\n",
    "    'Max_Pressure': 'sum',\n",
    "    'Avg_Pressure': 'mean',\n",
    "    'Min_Humidity': 'sum',\n",
    "    'Max_Humidity': 'sum',\n",
    "    'Avg_Humidity': 'mean',\n",
    "    'Min_Precipitation': 'sum',\n",
    "    'Max_Precipitation': 'sum',\n",
    "    'Avg_Precipitation': 'sum',\n",
    "    'Max_Raindetection': 'sum',\n",
    "    'Anemometer1_Avg_Freq': 'mean',\n",
    "    'Anemometer2_Avg_Freq': 'mean',\n",
    "    'Pressure_Avg_Freq': 'mean',\n",
    "}\n"
   ]
  },
  {
   "cell_type": "code",
   "execution_count": 16,
   "metadata": {},
   "outputs": [],
   "source": [
    "agg_metmast=metmast.resample('D').agg(aggregation_rules)\n",
    "agg_metmast=agg_metmast.reset_index()\n"
   ]
  },
  {
   "cell_type": "code",
   "execution_count": 17,
   "metadata": {},
   "outputs": [
    {
     "name": "stderr",
     "output_type": "stream",
     "text": [
      "/var/folders/7b/1zsp53s91z97clkc70s5xcym0000gn/T/ipykernel_65225/2464392033.py:2: FutureWarning: DataFrame.fillna with 'method' is deprecated and will raise in a future version. Use obj.ffill() or obj.bfill() instead.\n",
      "  metmast_clean=agg_metmast.fillna(method='bfill')\n"
     ]
    }
   ],
   "source": [
    "agg_metmast['metamast_missing_values'] = agg_metmast.isnull().any(axis=1).astype(int)\n",
    "metmast_clean=agg_metmast.fillna(method='bfill')"
   ]
  },
  {
   "cell_type": "markdown",
   "metadata": {},
   "source": [
    "# Merge metamast data and signals data"
   ]
  },
  {
   "cell_type": "code",
   "execution_count": 18,
   "metadata": {},
   "outputs": [],
   "source": [
    "def merge_signals_metmast(signals: pd.DataFrame, metmast: pd.DataFrame) -> pd.DataFrame:\n",
    "    merged_df = pd.merge(signals, metmast, on=\"Timestamp\", how=\"left\")\n",
    "    #merged_df.drop(columns=[\"index\"], inplace=True)\n",
    "    merged_df = merged_df[merged_df[\"missing_values\"] == 0]\n",
    "    merged_df = merged_df[merged_df[\"metamast_missing_values\"] == 0 ]\n",
    "    merged_df.drop(columns=[\"missing_values\", \"metamast_missing_values\"], inplace=True)\n",
    "    return merged_df\n"
   ]
  },
  {
   "cell_type": "code",
   "execution_count": 19,
   "metadata": {},
   "outputs": [],
   "source": [
    "merged_df = merge_signals_metmast(signals_clean, metmast_clean)"
   ]
  },
  {
   "cell_type": "code",
   "execution_count": 20,
   "metadata": {},
   "outputs": [
    {
     "data": {
      "text/html": [
       "<div>\n",
       "<style scoped>\n",
       "    .dataframe tbody tr th:only-of-type {\n",
       "        vertical-align: middle;\n",
       "    }\n",
       "\n",
       "    .dataframe tbody tr th {\n",
       "        vertical-align: top;\n",
       "    }\n",
       "\n",
       "    .dataframe thead th {\n",
       "        text-align: right;\n",
       "    }\n",
       "</style>\n",
       "<table border=\"1\" class=\"dataframe\">\n",
       "  <thead>\n",
       "    <tr style=\"text-align: right;\">\n",
       "      <th></th>\n",
       "      <th>Timestamp</th>\n",
       "      <th>Turbine_ID</th>\n",
       "      <th>Gen_RPM_Max</th>\n",
       "      <th>Gen_RPM_Min</th>\n",
       "      <th>Gen_RPM_Avg</th>\n",
       "      <th>Gen_RPM_Std</th>\n",
       "      <th>Gen_Bear_Temp_Avg</th>\n",
       "      <th>Gen_Phase1_Temp_Avg</th>\n",
       "      <th>Gen_Phase2_Temp_Avg</th>\n",
       "      <th>Gen_Phase3_Temp_Avg</th>\n",
       "      <th>...</th>\n",
       "      <th>Min_Humidity</th>\n",
       "      <th>Max_Humidity</th>\n",
       "      <th>Avg_Humidity</th>\n",
       "      <th>Min_Precipitation</th>\n",
       "      <th>Max_Precipitation</th>\n",
       "      <th>Avg_Precipitation</th>\n",
       "      <th>Max_Raindetection</th>\n",
       "      <th>Anemometer1_Avg_Freq</th>\n",
       "      <th>Anemometer2_Avg_Freq</th>\n",
       "      <th>Pressure_Avg_Freq</th>\n",
       "    </tr>\n",
       "  </thead>\n",
       "  <tbody>\n",
       "    <tr>\n",
       "      <th>0</th>\n",
       "      <td>2016-01-01 00:00:00+00:00</td>\n",
       "      <td>T01</td>\n",
       "      <td>181289.2</td>\n",
       "      <td>133914.9</td>\n",
       "      <td>158499.3</td>\n",
       "      <td>13332.7</td>\n",
       "      <td>5667.0</td>\n",
       "      <td>8128</td>\n",
       "      <td>8126</td>\n",
       "      <td>8049</td>\n",
       "      <td>...</td>\n",
       "      <td>12425.0</td>\n",
       "      <td>12698</td>\n",
       "      <td>87.229167</td>\n",
       "      <td>0</td>\n",
       "      <td>0</td>\n",
       "      <td>0</td>\n",
       "      <td>0</td>\n",
       "      <td>117.284722</td>\n",
       "      <td>118.152778</td>\n",
       "      <td>416.319444</td>\n",
       "    </tr>\n",
       "    <tr>\n",
       "      <th>1</th>\n",
       "      <td>2016-01-02 00:00:00+00:00</td>\n",
       "      <td>T01</td>\n",
       "      <td>100793.6</td>\n",
       "      <td>71082.2</td>\n",
       "      <td>86946.4</td>\n",
       "      <td>8378.4</td>\n",
       "      <td>4907.0</td>\n",
       "      <td>6556</td>\n",
       "      <td>6525</td>\n",
       "      <td>6458</td>\n",
       "      <td>...</td>\n",
       "      <td>12523.0</td>\n",
       "      <td>12755</td>\n",
       "      <td>87.743056</td>\n",
       "      <td>22</td>\n",
       "      <td>85</td>\n",
       "      <td>54</td>\n",
       "      <td>0</td>\n",
       "      <td>79.069444</td>\n",
       "      <td>79.000000</td>\n",
       "      <td>416.340278</td>\n",
       "    </tr>\n",
       "    <tr>\n",
       "      <th>2</th>\n",
       "      <td>2016-01-03 00:00:00+00:00</td>\n",
       "      <td>T01</td>\n",
       "      <td>133818.3</td>\n",
       "      <td>108905.3</td>\n",
       "      <td>124205.1</td>\n",
       "      <td>5775.7</td>\n",
       "      <td>6162.0</td>\n",
       "      <td>7969</td>\n",
       "      <td>7768</td>\n",
       "      <td>7627</td>\n",
       "      <td>...</td>\n",
       "      <td>13499.0</td>\n",
       "      <td>13671</td>\n",
       "      <td>94.208333</td>\n",
       "      <td>4</td>\n",
       "      <td>23</td>\n",
       "      <td>14</td>\n",
       "      <td>0</td>\n",
       "      <td>109.472222</td>\n",
       "      <td>109.798611</td>\n",
       "      <td>413.909722</td>\n",
       "    </tr>\n",
       "    <tr>\n",
       "      <th>3</th>\n",
       "      <td>2016-01-04 00:00:00+00:00</td>\n",
       "      <td>T01</td>\n",
       "      <td>246412.7</td>\n",
       "      <td>215913.9</td>\n",
       "      <td>234245.0</td>\n",
       "      <td>5730.7</td>\n",
       "      <td>9402.0</td>\n",
       "      <td>14207</td>\n",
       "      <td>13658</td>\n",
       "      <td>13447</td>\n",
       "      <td>...</td>\n",
       "      <td>12603.0</td>\n",
       "      <td>12921</td>\n",
       "      <td>88.534722</td>\n",
       "      <td>6</td>\n",
       "      <td>30</td>\n",
       "      <td>17</td>\n",
       "      <td>0</td>\n",
       "      <td>197.062500</td>\n",
       "      <td>197.652778</td>\n",
       "      <td>408.777778</td>\n",
       "    </tr>\n",
       "    <tr>\n",
       "      <th>4</th>\n",
       "      <td>2016-01-05 00:00:00+00:00</td>\n",
       "      <td>T01</td>\n",
       "      <td>240840.6</td>\n",
       "      <td>206798.4</td>\n",
       "      <td>225681.7</td>\n",
       "      <td>7157.1</td>\n",
       "      <td>8107.0</td>\n",
       "      <td>13162</td>\n",
       "      <td>12695</td>\n",
       "      <td>12515</td>\n",
       "      <td>...</td>\n",
       "      <td>10847.0</td>\n",
       "      <td>11252</td>\n",
       "      <td>76.645833</td>\n",
       "      <td>33</td>\n",
       "      <td>89</td>\n",
       "      <td>61</td>\n",
       "      <td>0</td>\n",
       "      <td>197.034722</td>\n",
       "      <td>195.583333</td>\n",
       "      <td>406.881944</td>\n",
       "    </tr>\n",
       "    <tr>\n",
       "      <th>...</th>\n",
       "      <td>...</td>\n",
       "      <td>...</td>\n",
       "      <td>...</td>\n",
       "      <td>...</td>\n",
       "      <td>...</td>\n",
       "      <td>...</td>\n",
       "      <td>...</td>\n",
       "      <td>...</td>\n",
       "      <td>...</td>\n",
       "      <td>...</td>\n",
       "      <td>...</td>\n",
       "      <td>...</td>\n",
       "      <td>...</td>\n",
       "      <td>...</td>\n",
       "      <td>...</td>\n",
       "      <td>...</td>\n",
       "      <td>...</td>\n",
       "      <td>...</td>\n",
       "      <td>...</td>\n",
       "      <td>...</td>\n",
       "      <td>...</td>\n",
       "    </tr>\n",
       "    <tr>\n",
       "      <th>2431</th>\n",
       "      <td>2017-12-27 00:00:00+00:00</td>\n",
       "      <td>T11</td>\n",
       "      <td>243986.1</td>\n",
       "      <td>205969.3</td>\n",
       "      <td>228579.7</td>\n",
       "      <td>8038.6</td>\n",
       "      <td>9281.0</td>\n",
       "      <td>12396</td>\n",
       "      <td>12417</td>\n",
       "      <td>12362</td>\n",
       "      <td>...</td>\n",
       "      <td>11275.0</td>\n",
       "      <td>11590</td>\n",
       "      <td>79.347222</td>\n",
       "      <td>9</td>\n",
       "      <td>21</td>\n",
       "      <td>15</td>\n",
       "      <td>0</td>\n",
       "      <td>198.923611</td>\n",
       "      <td>200.076389</td>\n",
       "      <td>411.756944</td>\n",
       "    </tr>\n",
       "    <tr>\n",
       "      <th>2432</th>\n",
       "      <td>2017-12-28 00:00:00+00:00</td>\n",
       "      <td>T11</td>\n",
       "      <td>237997.3</td>\n",
       "      <td>192192.0</td>\n",
       "      <td>220250.6</td>\n",
       "      <td>10931.2</td>\n",
       "      <td>8367.0</td>\n",
       "      <td>10300</td>\n",
       "      <td>10401</td>\n",
       "      <td>10322</td>\n",
       "      <td>...</td>\n",
       "      <td>12388.0</td>\n",
       "      <td>12598</td>\n",
       "      <td>86.687500</td>\n",
       "      <td>2</td>\n",
       "      <td>10</td>\n",
       "      <td>6</td>\n",
       "      <td>0</td>\n",
       "      <td>159.951389</td>\n",
       "      <td>161.583333</td>\n",
       "      <td>413.180556</td>\n",
       "    </tr>\n",
       "    <tr>\n",
       "      <th>2433</th>\n",
       "      <td>2017-12-29 00:00:00+00:00</td>\n",
       "      <td>T11</td>\n",
       "      <td>188502.9</td>\n",
       "      <td>146124.7</td>\n",
       "      <td>165452.9</td>\n",
       "      <td>13330.9</td>\n",
       "      <td>5920.0</td>\n",
       "      <td>7934</td>\n",
       "      <td>8103</td>\n",
       "      <td>8036</td>\n",
       "      <td>...</td>\n",
       "      <td>11533.0</td>\n",
       "      <td>11954</td>\n",
       "      <td>81.493056</td>\n",
       "      <td>0</td>\n",
       "      <td>0</td>\n",
       "      <td>0</td>\n",
       "      <td>0</td>\n",
       "      <td>100.416667</td>\n",
       "      <td>99.847222</td>\n",
       "      <td>417.979167</td>\n",
       "    </tr>\n",
       "    <tr>\n",
       "      <th>2434</th>\n",
       "      <td>2017-12-30 00:00:00+00:00</td>\n",
       "      <td>T11</td>\n",
       "      <td>65884.7</td>\n",
       "      <td>51194.5</td>\n",
       "      <td>57913.6</td>\n",
       "      <td>4789.3</td>\n",
       "      <td>4327.0</td>\n",
       "      <td>5416</td>\n",
       "      <td>5475</td>\n",
       "      <td>5453</td>\n",
       "      <td>...</td>\n",
       "      <td>11581.0</td>\n",
       "      <td>11946</td>\n",
       "      <td>81.638889</td>\n",
       "      <td>0</td>\n",
       "      <td>4</td>\n",
       "      <td>2</td>\n",
       "      <td>0</td>\n",
       "      <td>51.993056</td>\n",
       "      <td>51.888889</td>\n",
       "      <td>419.020833</td>\n",
       "    </tr>\n",
       "    <tr>\n",
       "      <th>2435</th>\n",
       "      <td>2017-12-31 00:00:00+00:00</td>\n",
       "      <td>T11</td>\n",
       "      <td>165289.1</td>\n",
       "      <td>118078.1</td>\n",
       "      <td>138207.0</td>\n",
       "      <td>14003.4</td>\n",
       "      <td>5204.0</td>\n",
       "      <td>6784</td>\n",
       "      <td>6904</td>\n",
       "      <td>6848</td>\n",
       "      <td>...</td>\n",
       "      <td>12510.0</td>\n",
       "      <td>12754</td>\n",
       "      <td>87.652778</td>\n",
       "      <td>0</td>\n",
       "      <td>0</td>\n",
       "      <td>0</td>\n",
       "      <td>0</td>\n",
       "      <td>87.493056</td>\n",
       "      <td>87.875000</td>\n",
       "      <td>420.590278</td>\n",
       "    </tr>\n",
       "  </tbody>\n",
       "</table>\n",
       "<p>2436 rows × 105 columns</p>\n",
       "</div>"
      ],
      "text/plain": [
       "                     Timestamp Turbine_ID  Gen_RPM_Max  Gen_RPM_Min  \\\n",
       "0    2016-01-01 00:00:00+00:00        T01     181289.2     133914.9   \n",
       "1    2016-01-02 00:00:00+00:00        T01     100793.6      71082.2   \n",
       "2    2016-01-03 00:00:00+00:00        T01     133818.3     108905.3   \n",
       "3    2016-01-04 00:00:00+00:00        T01     246412.7     215913.9   \n",
       "4    2016-01-05 00:00:00+00:00        T01     240840.6     206798.4   \n",
       "...                        ...        ...          ...          ...   \n",
       "2431 2017-12-27 00:00:00+00:00        T11     243986.1     205969.3   \n",
       "2432 2017-12-28 00:00:00+00:00        T11     237997.3     192192.0   \n",
       "2433 2017-12-29 00:00:00+00:00        T11     188502.9     146124.7   \n",
       "2434 2017-12-30 00:00:00+00:00        T11      65884.7      51194.5   \n",
       "2435 2017-12-31 00:00:00+00:00        T11     165289.1     118078.1   \n",
       "\n",
       "      Gen_RPM_Avg  Gen_RPM_Std  Gen_Bear_Temp_Avg  Gen_Phase1_Temp_Avg  \\\n",
       "0        158499.3      13332.7             5667.0                 8128   \n",
       "1         86946.4       8378.4             4907.0                 6556   \n",
       "2        124205.1       5775.7             6162.0                 7969   \n",
       "3        234245.0       5730.7             9402.0                14207   \n",
       "4        225681.7       7157.1             8107.0                13162   \n",
       "...           ...          ...                ...                  ...   \n",
       "2431     228579.7       8038.6             9281.0                12396   \n",
       "2432     220250.6      10931.2             8367.0                10300   \n",
       "2433     165452.9      13330.9             5920.0                 7934   \n",
       "2434      57913.6       4789.3             4327.0                 5416   \n",
       "2435     138207.0      14003.4             5204.0                 6784   \n",
       "\n",
       "      Gen_Phase2_Temp_Avg  Gen_Phase3_Temp_Avg  ...  Min_Humidity  \\\n",
       "0                    8126                 8049  ...       12425.0   \n",
       "1                    6525                 6458  ...       12523.0   \n",
       "2                    7768                 7627  ...       13499.0   \n",
       "3                   13658                13447  ...       12603.0   \n",
       "4                   12695                12515  ...       10847.0   \n",
       "...                   ...                  ...  ...           ...   \n",
       "2431                12417                12362  ...       11275.0   \n",
       "2432                10401                10322  ...       12388.0   \n",
       "2433                 8103                 8036  ...       11533.0   \n",
       "2434                 5475                 5453  ...       11581.0   \n",
       "2435                 6904                 6848  ...       12510.0   \n",
       "\n",
       "      Max_Humidity  Avg_Humidity  Min_Precipitation  Max_Precipitation  \\\n",
       "0            12698     87.229167                  0                  0   \n",
       "1            12755     87.743056                 22                 85   \n",
       "2            13671     94.208333                  4                 23   \n",
       "3            12921     88.534722                  6                 30   \n",
       "4            11252     76.645833                 33                 89   \n",
       "...            ...           ...                ...                ...   \n",
       "2431         11590     79.347222                  9                 21   \n",
       "2432         12598     86.687500                  2                 10   \n",
       "2433         11954     81.493056                  0                  0   \n",
       "2434         11946     81.638889                  0                  4   \n",
       "2435         12754     87.652778                  0                  0   \n",
       "\n",
       "      Avg_Precipitation  Max_Raindetection  Anemometer1_Avg_Freq  \\\n",
       "0                     0                  0            117.284722   \n",
       "1                    54                  0             79.069444   \n",
       "2                    14                  0            109.472222   \n",
       "3                    17                  0            197.062500   \n",
       "4                    61                  0            197.034722   \n",
       "...                 ...                ...                   ...   \n",
       "2431                 15                  0            198.923611   \n",
       "2432                  6                  0            159.951389   \n",
       "2433                  0                  0            100.416667   \n",
       "2434                  2                  0             51.993056   \n",
       "2435                  0                  0             87.493056   \n",
       "\n",
       "      Anemometer2_Avg_Freq  Pressure_Avg_Freq  \n",
       "0               118.152778         416.319444  \n",
       "1                79.000000         416.340278  \n",
       "2               109.798611         413.909722  \n",
       "3               197.652778         408.777778  \n",
       "4               195.583333         406.881944  \n",
       "...                    ...                ...  \n",
       "2431            200.076389         411.756944  \n",
       "2432            161.583333         413.180556  \n",
       "2433             99.847222         417.979167  \n",
       "2434             51.888889         419.020833  \n",
       "2435             87.875000         420.590278  \n",
       "\n",
       "[2436 rows x 105 columns]"
      ]
     },
     "execution_count": 20,
     "metadata": {},
     "output_type": "execute_result"
    }
   ],
   "source": [
    "merged_df.reset_index(drop=True)"
   ]
  },
  {
   "cell_type": "markdown",
   "metadata": {},
   "source": [
    "# 3. Clean Failure data"
   ]
  },
  {
   "cell_type": "code",
   "execution_count": 21,
   "metadata": {},
   "outputs": [],
   "source": [
    "failures=pd.concat([failure_2016, failure_2017], axis=0)\n",
    "failures['Timestamp'] = pd.to_datetime(failures['Timestamp'])\n",
    "failures['Timestamp'] = failures['Timestamp'].dt.floor('d')\n"
   ]
  },
  {
   "cell_type": "code",
   "execution_count": 28,
   "metadata": {},
   "outputs": [],
   "source": [
    "failures.to_csv('../data/model_data/failures.csv', index=False)"
   ]
  },
  {
   "cell_type": "code",
   "execution_count": 22,
   "metadata": {},
   "outputs": [],
   "source": [
    "days_lookback = 60\n",
    "def create_failure_list(failures: pd.DataFrame, days_lookback: int, value_function, target_name: str = \"Target\") -> pd.DataFrame:\n",
    "    failure_list = []\n",
    "\n",
    "    for i in range(len(failures)):\n",
    "        turbine_id = str(failures.iloc[i][\"Turbine_ID\"])\n",
    "        failure_datetime = failures.iloc[i][\"Timestamp\"]\n",
    "        components = failures.iloc[i][\"Component\"]\n",
    "        rounded_datetime = failure_datetime.replace(hour=0, minute=0, second=0, microsecond=0)  # Round to the start of the day\n",
    "\n",
    "        for j in range(days_lookback):\n",
    "            delta = timedelta(days=j)\n",
    "            new_datetime = rounded_datetime - delta\n",
    "            datetime_formated = new_datetime.replace(tzinfo=timezone.utc)\n",
    "            # Calculate the target value using the provided value_function\n",
    "            target_value = value_function(j, days_lookback)\n",
    "            failure_list.append([turbine_id, datetime_formated.isoformat(), components,target_value])\n",
    "    \n",
    "    failure_df = pd.DataFrame(failure_list, columns=[\"Turbine_ID\", \"Timestamp\", \"Component\",target_name])\n",
    "    return failure_df"
   ]
  },
  {
   "cell_type": "code",
   "execution_count": null,
   "metadata": {},
   "outputs": [],
   "source": []
  },
  {
   "cell_type": "code",
   "execution_count": 23,
   "metadata": {},
   "outputs": [],
   "source": [
    "reg_target_name = \"RUL (Target)\"\n",
    "class_target_name = \"Failure (Target)\"\n",
    "regression_function = lambda i, j: i\n",
    "classif_function = lambda i, j: 1"
   ]
  },
  {
   "cell_type": "code",
   "execution_count": 73,
   "metadata": {},
   "outputs": [],
   "source": [
    "components = failures[\"Component\"].unique()\n",
    "for component in components:\n",
    "    globals()[f\"failure_df_{component}\"] = failures[failures[\"Component\"] == \"GEARBOX\"]\n",
    "    globals()[f\"failure_df_{component}\"] = create_failure_list(failures[failures[\"Component\"] == component], days_lookback, classif_function, class_target_name)\n",
    "    globals()[f\"failure_df_{component}\"]['Timestamp'] = pd.to_datetime(globals()[f\"failure_df_{component}\"]['Timestamp'])\n",
    "    globals()[f\"labeled_df_{component}\"] = pd.merge(merged_df.reset_index(drop=True), globals()[f\"failure_df_{component}\"].reset_index(drop=True), on=[\"Turbine_ID\", \"Timestamp\"], how=\"left\")\n",
    "    globals()[f\"labeled_df_{component}\"][class_target_name] = globals()[f\"labeled_df_{component}\"][class_target_name].fillna(0).astype(int)\n",
    "    globals()[f\"labeled_df_{component}\"].drop_duplicates(inplace=True)\n",
    "    \n"
   ]
  },
  {
   "cell_type": "code",
   "execution_count": 25,
   "metadata": {},
   "outputs": [],
   "source": [
    "import os\n",
    "os.makedirs('./data/model_data', exist_ok=True)"
   ]
  },
  {
   "cell_type": "code",
   "execution_count": 63,
   "metadata": {},
   "outputs": [],
   "source": [
    "for component in components:\n",
    "    globals()[f\"labeled_df_{component}\"].to_csv(f'./data/model_data/labelled_data_{component}.csv', index=False)\n"
   ]
  },
  {
   "cell_type": "code",
   "execution_count": 27,
   "metadata": {},
   "outputs": [],
   "source": [
    "failures.to_csv('./data/failures.csv', index=False)"
   ]
  }
 ],
 "metadata": {
  "kernelspec": {
   "display_name": "venv",
   "language": "python",
   "name": "python3"
  },
  "language_info": {
   "codemirror_mode": {
    "name": "ipython",
    "version": 3
   },
   "file_extension": ".py",
   "mimetype": "text/x-python",
   "name": "python",
   "nbconvert_exporter": "python",
   "pygments_lexer": "ipython3",
   "version": "3.12.3"
  }
 },
 "nbformat": 4,
 "nbformat_minor": 2
}
