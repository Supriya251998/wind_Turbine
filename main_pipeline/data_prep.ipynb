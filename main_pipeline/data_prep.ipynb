{
 "cells": [
  {
   "cell_type": "code",
   "execution_count": 2,
   "metadata": {},
   "outputs": [],
   "source": [
    "import pandas as pd\n",
    "import numpy as np\n",
    "import matplotlib.pyplot as plt\n",
    "from sklearn.feature_selection import VarianceThreshold\n",
    "from datetime import datetime, timedelta, timezone\n",
    "from sklearn.model_selection import train_test_split"
   ]
  },
  {
   "cell_type": "code",
   "execution_count": 3,
   "metadata": {},
   "outputs": [],
   "source": [
    "failure_2016 = pd.read_csv('../data/init/failures-2016.csv',sep=';')\n",
    "failure_2017 = pd.read_csv('../data/init/failures-2017.csv',sep=';')\n",
    "metmast_2016 = pd.read_csv('../data/init/metmast-2016.csv',sep=';')\n",
    "metmast_2017 = pd.read_csv('../data/init/metmast-2017.csv',sep=';')\n",
    "signals_2016 = pd.read_csv('../data/init/signals-2016.csv', sep=';')\n",
    "signals_2017= pd.read_csv('../data/init/signals-2017.csv', sep=';')\n",
    "\n"
   ]
  },
  {
   "cell_type": "markdown",
   "metadata": {},
   "source": [
    "# 1. Cleaning Signal data"
   ]
  },
  {
   "cell_type": "markdown",
   "metadata": {},
   "source": [
    "Combining signals from both years and aggregating the time series data into recurring once a day."
   ]
  },
  {
   "cell_type": "code",
   "execution_count": 4,
   "metadata": {},
   "outputs": [],
   "source": [
    "def signal_preprocess(signals):\n",
    "    \n",
    "    signals['Timestamp'] = pd.to_datetime(signals['Timestamp'])\n",
    "    signals=signals.set_index('Timestamp')\n",
    "    return signals\n"
   ]
  },
  {
   "cell_type": "code",
   "execution_count": 5,
   "metadata": {},
   "outputs": [],
   "source": [
    "signals=pd.concat([signals_2016, signals_2017], axis=0)\n",
    "signals = signal_preprocess(signals)"
   ]
  },
  {
   "cell_type": "markdown",
   "metadata": {},
   "source": [
    "Drop the columns with low variance"
   ]
  },
  {
   "cell_type": "code",
   "execution_count": 12,
   "metadata": {},
   "outputs": [],
   "source": [
    "def get_signals_with_low_variance(df: pd.DataFrame, threshold=0) -> list:\n",
    "    numerics = ['int16', 'int32', 'int64', 'float16', 'float32', 'float64']\n",
    "    cont_data = df.select_dtypes(include=numerics)\n",
    "    selector = VarianceThreshold(threshold=threshold)\n",
    "    selector.fit(cont_data)\n",
    "    inverted_list = ~np.array(selector.get_support())\n",
    "    return cont_data.columns[inverted_list].tolist()"
   ]
  },
  {
   "cell_type": "code",
   "execution_count": 13,
   "metadata": {},
   "outputs": [],
   "source": [
    "cols_to_drop=get_signals_with_low_variance(signals)\n",
    "signals.drop(cols_to_drop, axis=1, inplace=True)"
   ]
  },
  {
   "cell_type": "markdown",
   "metadata": {},
   "source": [
    "Aggregate the time series dataframe into a daily data frame"
   ]
  },
  {
   "cell_type": "code",
   "execution_count": 26,
   "metadata": {},
   "outputs": [],
   "source": [
    "signals_aggregation_rules = {\n",
    "    'Gen_RPM_Max': 'max',\n",
    "    'Gen_RPM_Min': 'min',\n",
    "    'Gen_RPM_Avg': 'mean',\n",
    "    'Gen_RPM_Std': 'mean',\n",
    "    'Gen_Bear_Temp_Avg': 'mean',\n",
    "    'Gen_Phase1_Temp_Avg': 'mean',\n",
    "    'Gen_Phase2_Temp_Avg': 'mean',\n",
    "    'Gen_Phase3_Temp_Avg': 'mean',\n",
    "    'Hyd_Oil_Temp_Avg': 'mean',\n",
    "    'Gear_Oil_Temp_Avg': 'mean',\n",
    "    'Gear_Bear_Temp_Avg': 'mean',\n",
    "    'Nac_Temp_Avg': 'mean',\n",
    "    'Rtr_RPM_Max': 'max',\n",
    "    'Rtr_RPM_Min': 'min',\n",
    "    'Rtr_RPM_Avg': 'mean',\n",
    "    'Amb_WindSpeed_Max': 'max',\n",
    "    'Amb_WindSpeed_Min': 'min',\n",
    "    'Amb_WindSpeed_Avg': 'mean',\n",
    "    'Amb_WindSpeed_Std': 'mean',\n",
    "    'Amb_WindDir_Relative_Avg': 'mean',\n",
    "    'Amb_WindDir_Abs_Avg': 'mean',\n",
    "    'Amb_Temp_Avg': 'mean',\n",
    "    'Prod_LatestAvg_ActPwrGen0': 'mean',\n",
    "    'Prod_LatestAvg_ActPwrGen1': 'mean',\n",
    "    #'Prod_LatestAvg_ActPwrGen2': 'mean',\n",
    "    'Prod_LatestAvg_TotActPwr': 'sum',\n",
    "    'Prod_LatestAvg_ReactPwrGen0': 'mean',\n",
    "    'Prod_LatestAvg_TotReactPwr': 'sum',\n",
    "    'HVTrafo_Phase1_Temp_Avg': 'mean',\n",
    "    'HVTrafo_Phase2_Temp_Avg': 'mean',\n",
    "    'HVTrafo_Phase3_Temp_Avg': 'mean',\n",
    "    'Grd_InverterPhase1_Temp_Avg': 'mean',\n",
    "    'Cont_Top_Temp_Avg': 'mean',\n",
    "    'Cont_Hub_Temp_Avg': 'mean',\n",
    "    'Cont_VCP_Temp_Avg': 'mean',\n",
    "    'Gen_SlipRing_Temp_Avg': 'mean',\n",
    "    'Spin_Temp_Avg': 'mean',\n",
    "    'Blds_PitchAngle_Min': 'min',\n",
    "    'Blds_PitchAngle_Max': 'max',\n",
    "    'Blds_PitchAngle_Avg': 'mean',\n",
    "    'Blds_PitchAngle_Std': 'mean',\n",
    "    'Cont_VCP_ChokcoilTemp_Avg': 'mean',\n",
    "    'Grd_RtrInvPhase1_Temp_Avg': 'mean',\n",
    "    'Grd_RtrInvPhase2_Temp_Avg': 'mean',\n",
    "    'Grd_RtrInvPhase3_Temp_Avg': 'mean',\n",
    "    'Cont_VCP_WtrTemp_Avg': 'mean',\n",
    "    'Grd_Prod_Pwr_Avg': 'mean',\n",
    "    'Grd_Prod_CosPhi_Avg': 'mean',\n",
    "    'Grd_Prod_Freq_Avg': 'mean',\n",
    "    'Grd_Prod_VoltPhse1_Avg': 'mean',\n",
    "    'Grd_Prod_VoltPhse2_Avg': 'mean',\n",
    "    'Grd_Prod_VoltPhse3_Avg': 'mean',\n",
    "    'Grd_Prod_CurPhse1_Avg': 'mean',\n",
    "    'Grd_Prod_CurPhse2_Avg': 'mean',\n",
    "    'Grd_Prod_CurPhse3_Avg': 'mean',\n",
    "    'Grd_Prod_Pwr_Max': 'max',\n",
    "    'Grd_Prod_Pwr_Min': 'min',\n",
    "    'Grd_Busbar_Temp_Avg': 'mean',\n",
    "    'Rtr_RPM_Std': 'mean',\n",
    "    'Amb_WindSpeed_Est_Avg': 'mean',\n",
    "    'Grd_Prod_Pwr_Std': 'mean',\n",
    "    'Grd_Prod_ReactPwr_Avg': 'mean',\n",
    "    'Grd_Prod_ReactPwr_Max': 'max',\n",
    "    'Grd_Prod_ReactPwr_Min': 'min',\n",
    "    'Grd_Prod_ReactPwr_Std': 'mean',\n",
    "    'Grd_Prod_PsblePwr_Avg': 'mean',\n",
    "    'Grd_Prod_PsblePwr_Max': 'max',\n",
    "    'Grd_Prod_PsblePwr_Min': 'min',\n",
    "    'Grd_Prod_PsblePwr_Std': 'mean',\n",
    "    'Grd_Prod_PsbleInd_Avg': 'mean',\n",
    "    'Grd_Prod_PsbleInd_Max': 'max',\n",
    "    'Grd_Prod_PsbleInd_Min': 'min',\n",
    "    'Grd_Prod_PsbleInd_Std': 'mean',\n",
    "    'Grd_Prod_PsbleCap_Avg': 'mean',\n",
    "    'Grd_Prod_PsbleCap_Max': 'max',\n",
    "    'Grd_Prod_PsbleCap_Min': 'min',\n",
    "    'Grd_Prod_PsbleCap_Std': 'mean',\n",
    "    'Gen_Bear2_Temp_Avg': 'mean',\n",
    "    'Nac_Direction_Avg': 'mean'\n",
    "}"
   ]
  },
  {
   "cell_type": "code",
   "execution_count": 27,
   "metadata": {},
   "outputs": [],
   "source": [
    "def aggregate_signals(signals):\n",
    "    agg_signals=signals.groupby('Turbine_ID').resample('D').agg(signals_aggregation_rules)\n",
    "    agg_signals['Turbine_ID'] = agg_signals.index.get_level_values('Turbine_ID')  \n",
    "    agg_signals=agg_signals.reset_index('Timestamp')\n",
    "    return agg_signals\n"
   ]
  },
  {
   "cell_type": "code",
   "execution_count": 28,
   "metadata": {},
   "outputs": [],
   "source": [
    "agg_signals=aggregate_signals(signals)\n",
    "agg_signals=agg_signals.reset_index(drop=True)"
   ]
  },
  {
   "cell_type": "code",
   "execution_count": 29,
   "metadata": {},
   "outputs": [
    {
     "name": "stderr",
     "output_type": "stream",
     "text": [
      "/var/folders/7b/1zsp53s91z97clkc70s5xcym0000gn/T/ipykernel_28235/1721483605.py:4: FutureWarning: DataFrame.fillna with 'method' is deprecated and will raise in a future version. Use obj.ffill() or obj.bfill() instead.\n",
      "  signals_clean=agg_signals.fillna(method='bfill')\n"
     ]
    }
   ],
   "source": [
    "# binary column to indicate if a signal data has any missing values\n",
    "agg_signals['missing_values'] = agg_signals.isnull().any(axis=1).astype(int)\n",
    "#fill the missing valeu with backfill and forwardfill\n",
    "signals_clean=agg_signals.fillna(method='bfill')\n",
    "#signals_clean=signals_clean.reset_index()"
   ]
  },
  {
   "cell_type": "markdown",
   "metadata": {},
   "source": [
    "# 2. Clean Metacast data"
   ]
  },
  {
   "cell_type": "markdown",
   "metadata": {},
   "source": [
    "Combine metamast data for both 2016 and 2017. Aggregate the metamast data into daily time slots"
   ]
  },
  {
   "cell_type": "markdown",
   "metadata": {},
   "source": [
    "Metmast data do not have data from 2017-01-04 to 2017-05-05"
   ]
  },
  {
   "cell_type": "code",
   "execution_count": 31,
   "metadata": {},
   "outputs": [],
   "source": [
    "metmast = pd.concat([metmast_2016, metmast_2017], axis=0)\n",
    "metmast['Timestamp'] = pd.to_datetime(metmast['Timestamp'])\n",
    "metmast=metmast.set_index('Timestamp')\n"
   ]
  },
  {
   "cell_type": "markdown",
   "metadata": {},
   "source": [
    "Drop the columns with low variance"
   ]
  },
  {
   "cell_type": "code",
   "execution_count": 32,
   "metadata": {},
   "outputs": [],
   "source": [
    "cols_to_drop = get_signals_with_low_variance(metmast)  \n",
    "metmast = metmast.drop(cols_to_drop, axis=1)\n",
    "metmast= metmast.drop([\"Min_Winddirection2\", \"Max_Winddirection2\", \"Avg_Winddirection2\", \"Var_Winddirection2\"], axis=1)"
   ]
  },
  {
   "cell_type": "markdown",
   "metadata": {},
   "source": [
    "Aggregate the data according to the columns (with mean or sum)"
   ]
  },
  {
   "cell_type": "code",
   "execution_count": 33,
   "metadata": {},
   "outputs": [],
   "source": [
    "aggregation_rules = {\n",
    "    'Min_Windspeed1': 'min',\n",
    "    'Max_Windspeed1': 'max',\n",
    "    'Avg_Windspeed1': 'mean',\n",
    "    'Var_Windspeed1': 'mean',\n",
    "    'Min_Windspeed2': 'min',\n",
    "    'Max_Windspeed2': 'max',\n",
    "    'Avg_Windspeed2': 'mean',\n",
    "    'Var_Windspeed2': 'mean',\n",
    "    'Min_AmbientTemp': 'min',\n",
    "    'Max_AmbientTemp': 'max',\n",
    "    'Avg_AmbientTemp': 'mean',\n",
    "    'Min_Pressure': 'min',\n",
    "    'Max_Pressure': 'max',\n",
    "    'Avg_Pressure': 'mean',\n",
    "    'Min_Humidity': 'min',\n",
    "    'Max_Humidity': 'max',\n",
    "    'Avg_Humidity': 'mean',\n",
    "    'Min_Precipitation': 'min',\n",
    "    'Max_Precipitation': 'max',\n",
    "    'Avg_Precipitation': 'mean',\n",
    "    'Max_Raindetection': 'max',\n",
    "    'Anemometer1_Avg_Freq': 'mean',\n",
    "    'Anemometer2_Avg_Freq': 'mean',\n",
    "    'Pressure_Avg_Freq': 'mean',\n",
    "}\n"
   ]
  },
  {
   "cell_type": "code",
   "execution_count": 34,
   "metadata": {},
   "outputs": [],
   "source": [
    "agg_metmast=metmast.resample('D').agg(aggregation_rules)\n",
    "agg_metmast=agg_metmast.reset_index()\n"
   ]
  },
  {
   "cell_type": "code",
   "execution_count": 35,
   "metadata": {},
   "outputs": [
    {
     "name": "stderr",
     "output_type": "stream",
     "text": [
      "/var/folders/7b/1zsp53s91z97clkc70s5xcym0000gn/T/ipykernel_28235/2464392033.py:2: FutureWarning: DataFrame.fillna with 'method' is deprecated and will raise in a future version. Use obj.ffill() or obj.bfill() instead.\n",
      "  metmast_clean=agg_metmast.fillna(method='bfill')\n"
     ]
    }
   ],
   "source": [
    "agg_metmast['metamast_missing_values'] = agg_metmast.isnull().any(axis=1).astype(int)\n",
    "metmast_clean=agg_metmast.fillna(method='bfill')"
   ]
  },
  {
   "cell_type": "markdown",
   "metadata": {},
   "source": [
    "# Merge metamast data and signals data"
   ]
  },
  {
   "cell_type": "code",
   "execution_count": 36,
   "metadata": {},
   "outputs": [],
   "source": [
    "def merge_signals_metmast(signals: pd.DataFrame, metmast: pd.DataFrame) -> pd.DataFrame:\n",
    "    merged_df = pd.merge(signals, metmast, on=\"Timestamp\", how=\"left\")\n",
    "    #merged_df.drop(columns=[\"index\"], inplace=True)\n",
    "    merged_df = merged_df[merged_df[\"missing_values\"] == 0]\n",
    "    merged_df = merged_df[merged_df[\"metamast_missing_values\"] == 0 ]\n",
    "    merged_df.drop(columns=[\"missing_values\", \"metamast_missing_values\"], inplace=True)\n",
    "    return merged_df\n"
   ]
  },
  {
   "cell_type": "code",
   "execution_count": 109,
   "metadata": {},
   "outputs": [],
   "source": [
    "merged_df = merge_signals_metmast(signals_clean, metmast_clean)"
   ]
  },
  {
   "cell_type": "code",
   "execution_count": 108,
   "metadata": {},
   "outputs": [],
   "source": [
    "# load the column description excel file\n",
    "column_description = pd.read_excel('../data/init/column description.xlsx')"
   ]
  },
  {
   "cell_type": "code",
   "execution_count": 110,
   "metadata": {},
   "outputs": [],
   "source": [
    "# change the expanded column names to the camel caps\n",
    "column_description['Expanded_column_names'] = column_description['Expanded_column_names'].str.replace(' ', '_').str.lower()"
   ]
  },
  {
   "cell_type": "code",
   "execution_count": 111,
   "metadata": {},
   "outputs": [],
   "source": [
    "# replace the merged_df column names with the expanded column names from column descriptio df except for the timestamp column and turbine id\n",
    "merged_df.columns = column_description.set_index('Columns').loc[merged_df.columns, 'Expanded_column_names'].values"
   ]
  },
  {
   "cell_type": "markdown",
   "metadata": {},
   "source": [
    "# 3. Clean Failure data"
   ]
  },
  {
   "cell_type": "code",
   "execution_count": 119,
   "metadata": {},
   "outputs": [],
   "source": [
    "failures=pd.concat([failure_2016, failure_2017], axis=0)\n",
    "failures['Timestamp'] = pd.to_datetime(failures['Timestamp'])\n",
    "failures['Timestamp'] = failures['Timestamp'].dt.floor('d')\n",
    "# change the column name Timestamp to timestamp and Turbine_ID to turbine_id   \n",
    "failures.columns = ['turbine_id', 'component', 'timestamp','remarks']\n",
    "\n"
   ]
  },
  {
   "cell_type": "code",
   "execution_count": 120,
   "metadata": {},
   "outputs": [
    {
     "data": {
      "text/html": [
       "<div>\n",
       "<style scoped>\n",
       "    .dataframe tbody tr th:only-of-type {\n",
       "        vertical-align: middle;\n",
       "    }\n",
       "\n",
       "    .dataframe tbody tr th {\n",
       "        vertical-align: top;\n",
       "    }\n",
       "\n",
       "    .dataframe thead th {\n",
       "        text-align: right;\n",
       "    }\n",
       "</style>\n",
       "<table border=\"1\" class=\"dataframe\">\n",
       "  <thead>\n",
       "    <tr style=\"text-align: right;\">\n",
       "      <th></th>\n",
       "      <th>turbine_id</th>\n",
       "      <th>component</th>\n",
       "      <th>timestamp</th>\n",
       "      <th>remarks</th>\n",
       "    </tr>\n",
       "  </thead>\n",
       "  <tbody>\n",
       "    <tr>\n",
       "      <th>0</th>\n",
       "      <td>T01</td>\n",
       "      <td>GEARBOX</td>\n",
       "      <td>2016-07-18 00:00:00+00:00</td>\n",
       "      <td>Gearbox pump damaged</td>\n",
       "    </tr>\n",
       "    <tr>\n",
       "      <th>1</th>\n",
       "      <td>T06</td>\n",
       "      <td>GENERATOR</td>\n",
       "      <td>2016-07-11 00:00:00+00:00</td>\n",
       "      <td>Generator replaced</td>\n",
       "    </tr>\n",
       "    <tr>\n",
       "      <th>2</th>\n",
       "      <td>T06</td>\n",
       "      <td>GENERATOR</td>\n",
       "      <td>2016-07-24 00:00:00+00:00</td>\n",
       "      <td>Generator temperature sensor failure</td>\n",
       "    </tr>\n",
       "    <tr>\n",
       "      <th>3</th>\n",
       "      <td>T06</td>\n",
       "      <td>GENERATOR</td>\n",
       "      <td>2016-09-04 00:00:00+00:00</td>\n",
       "      <td>High temperature generator error</td>\n",
       "    </tr>\n",
       "    <tr>\n",
       "      <th>4</th>\n",
       "      <td>T06</td>\n",
       "      <td>GENERATOR</td>\n",
       "      <td>2016-10-27 00:00:00+00:00</td>\n",
       "      <td>Generator replaced</td>\n",
       "    </tr>\n",
       "    <tr>\n",
       "      <th>5</th>\n",
       "      <td>T06</td>\n",
       "      <td>GENERATOR</td>\n",
       "      <td>2016-10-02 00:00:00+00:00</td>\n",
       "      <td>Refrigeration system and temperature sensors i...</td>\n",
       "    </tr>\n",
       "    <tr>\n",
       "      <th>6</th>\n",
       "      <td>T06</td>\n",
       "      <td>HYDRAULIC_GROUP</td>\n",
       "      <td>2016-04-04 00:00:00+00:00</td>\n",
       "      <td>Error in pitch regulation</td>\n",
       "    </tr>\n",
       "    <tr>\n",
       "      <th>7</th>\n",
       "      <td>T07</td>\n",
       "      <td>GENERATOR_BEARING</td>\n",
       "      <td>2016-04-30 00:00:00+00:00</td>\n",
       "      <td>High temperature in generator bearing (replace...</td>\n",
       "    </tr>\n",
       "    <tr>\n",
       "      <th>8</th>\n",
       "      <td>T07</td>\n",
       "      <td>TRANSFORMER</td>\n",
       "      <td>2016-07-10 00:00:00+00:00</td>\n",
       "      <td>High temperature transformer</td>\n",
       "    </tr>\n",
       "    <tr>\n",
       "      <th>9</th>\n",
       "      <td>T07</td>\n",
       "      <td>TRANSFORMER</td>\n",
       "      <td>2016-08-23 00:00:00+00:00</td>\n",
       "      <td>High temperature transformer. Transformer refr...</td>\n",
       "    </tr>\n",
       "    <tr>\n",
       "      <th>10</th>\n",
       "      <td>T09</td>\n",
       "      <td>GEARBOX</td>\n",
       "      <td>2016-10-11 00:00:00+00:00</td>\n",
       "      <td>Gearbox repaired</td>\n",
       "    </tr>\n",
       "    <tr>\n",
       "      <th>11</th>\n",
       "      <td>T09</td>\n",
       "      <td>GENERATOR_BEARING</td>\n",
       "      <td>2016-06-07 00:00:00+00:00</td>\n",
       "      <td>High tempemperature generator bearing</td>\n",
       "    </tr>\n",
       "    <tr>\n",
       "      <th>12</th>\n",
       "      <td>T09</td>\n",
       "      <td>GENERATOR_BEARING</td>\n",
       "      <td>2016-08-22 00:00:00+00:00</td>\n",
       "      <td>High temperature generator bearing</td>\n",
       "    </tr>\n",
       "    <tr>\n",
       "      <th>13</th>\n",
       "      <td>T09</td>\n",
       "      <td>GENERATOR_BEARING</td>\n",
       "      <td>2016-10-17 00:00:00+00:00</td>\n",
       "      <td>Generator bearings replaced</td>\n",
       "    </tr>\n",
       "    <tr>\n",
       "      <th>14</th>\n",
       "      <td>T11</td>\n",
       "      <td>GENERATOR</td>\n",
       "      <td>2016-03-03 00:00:00+00:00</td>\n",
       "      <td>Electric circuit error in generator</td>\n",
       "    </tr>\n",
       "    <tr>\n",
       "      <th>15</th>\n",
       "      <td>T11</td>\n",
       "      <td>HYDRAULIC_GROUP</td>\n",
       "      <td>2016-10-17 00:00:00+00:00</td>\n",
       "      <td>Hydraulic group error in the brake circuit</td>\n",
       "    </tr>\n",
       "    <tr>\n",
       "      <th>0</th>\n",
       "      <td>T01</td>\n",
       "      <td>TRANSFORMER</td>\n",
       "      <td>2017-08-11 00:00:00+00:00</td>\n",
       "      <td>Transformer fan damaged</td>\n",
       "    </tr>\n",
       "    <tr>\n",
       "      <th>1</th>\n",
       "      <td>T06</td>\n",
       "      <td>GEARBOX</td>\n",
       "      <td>2017-10-17 00:00:00+00:00</td>\n",
       "      <td>Gearbox bearings damaged</td>\n",
       "    </tr>\n",
       "    <tr>\n",
       "      <th>2</th>\n",
       "      <td>T06</td>\n",
       "      <td>HYDRAULIC_GROUP</td>\n",
       "      <td>2017-08-19 00:00:00+00:00</td>\n",
       "      <td>Oil leakage in Hub</td>\n",
       "    </tr>\n",
       "    <tr>\n",
       "      <th>3</th>\n",
       "      <td>T07</td>\n",
       "      <td>GENERATOR_BEARING</td>\n",
       "      <td>2017-08-20 00:00:00+00:00</td>\n",
       "      <td>Generator bearings damaged</td>\n",
       "    </tr>\n",
       "    <tr>\n",
       "      <th>4</th>\n",
       "      <td>T07</td>\n",
       "      <td>GENERATOR</td>\n",
       "      <td>2017-08-21 00:00:00+00:00</td>\n",
       "      <td>Generator damaged</td>\n",
       "    </tr>\n",
       "    <tr>\n",
       "      <th>5</th>\n",
       "      <td>T07</td>\n",
       "      <td>HYDRAULIC_GROUP</td>\n",
       "      <td>2017-06-17 00:00:00+00:00</td>\n",
       "      <td>Oil leakage in Hub</td>\n",
       "    </tr>\n",
       "    <tr>\n",
       "      <th>6</th>\n",
       "      <td>T07</td>\n",
       "      <td>HYDRAULIC_GROUP</td>\n",
       "      <td>2017-10-19 00:00:00+00:00</td>\n",
       "      <td>Oil leakage in Hub</td>\n",
       "    </tr>\n",
       "    <tr>\n",
       "      <th>7</th>\n",
       "      <td>T09</td>\n",
       "      <td>GEARBOX</td>\n",
       "      <td>2017-10-18 00:00:00+00:00</td>\n",
       "      <td>Gearbox noise</td>\n",
       "    </tr>\n",
       "    <tr>\n",
       "      <th>8</th>\n",
       "      <td>T09</td>\n",
       "      <td>GENERATOR_BEARING</td>\n",
       "      <td>2017-01-25 00:00:00+00:00</td>\n",
       "      <td>Generator bearings replaced</td>\n",
       "    </tr>\n",
       "    <tr>\n",
       "      <th>9</th>\n",
       "      <td>T09</td>\n",
       "      <td>HYDRAULIC_GROUP</td>\n",
       "      <td>2017-09-16 00:00:00+00:00</td>\n",
       "      <td>Pitch position error related GH</td>\n",
       "    </tr>\n",
       "    <tr>\n",
       "      <th>10</th>\n",
       "      <td>T11</td>\n",
       "      <td>HYDRAULIC_GROUP</td>\n",
       "      <td>2017-04-26 00:00:00+00:00</td>\n",
       "      <td>Hydraulic group error in the brake circuit</td>\n",
       "    </tr>\n",
       "    <tr>\n",
       "      <th>11</th>\n",
       "      <td>T11</td>\n",
       "      <td>HYDRAULIC_GROUP</td>\n",
       "      <td>2017-09-12 00:00:00+00:00</td>\n",
       "      <td>Hydraulic group error in the brake circuit</td>\n",
       "    </tr>\n",
       "  </tbody>\n",
       "</table>\n",
       "</div>"
      ],
      "text/plain": [
       "   turbine_id          component                 timestamp  \\\n",
       "0         T01            GEARBOX 2016-07-18 00:00:00+00:00   \n",
       "1         T06          GENERATOR 2016-07-11 00:00:00+00:00   \n",
       "2         T06          GENERATOR 2016-07-24 00:00:00+00:00   \n",
       "3         T06          GENERATOR 2016-09-04 00:00:00+00:00   \n",
       "4         T06          GENERATOR 2016-10-27 00:00:00+00:00   \n",
       "5         T06          GENERATOR 2016-10-02 00:00:00+00:00   \n",
       "6         T06    HYDRAULIC_GROUP 2016-04-04 00:00:00+00:00   \n",
       "7         T07  GENERATOR_BEARING 2016-04-30 00:00:00+00:00   \n",
       "8         T07        TRANSFORMER 2016-07-10 00:00:00+00:00   \n",
       "9         T07        TRANSFORMER 2016-08-23 00:00:00+00:00   \n",
       "10        T09            GEARBOX 2016-10-11 00:00:00+00:00   \n",
       "11        T09  GENERATOR_BEARING 2016-06-07 00:00:00+00:00   \n",
       "12        T09  GENERATOR_BEARING 2016-08-22 00:00:00+00:00   \n",
       "13        T09  GENERATOR_BEARING 2016-10-17 00:00:00+00:00   \n",
       "14        T11          GENERATOR 2016-03-03 00:00:00+00:00   \n",
       "15        T11    HYDRAULIC_GROUP 2016-10-17 00:00:00+00:00   \n",
       "0         T01        TRANSFORMER 2017-08-11 00:00:00+00:00   \n",
       "1         T06            GEARBOX 2017-10-17 00:00:00+00:00   \n",
       "2         T06    HYDRAULIC_GROUP 2017-08-19 00:00:00+00:00   \n",
       "3         T07  GENERATOR_BEARING 2017-08-20 00:00:00+00:00   \n",
       "4         T07          GENERATOR 2017-08-21 00:00:00+00:00   \n",
       "5         T07    HYDRAULIC_GROUP 2017-06-17 00:00:00+00:00   \n",
       "6         T07    HYDRAULIC_GROUP 2017-10-19 00:00:00+00:00   \n",
       "7         T09            GEARBOX 2017-10-18 00:00:00+00:00   \n",
       "8         T09  GENERATOR_BEARING 2017-01-25 00:00:00+00:00   \n",
       "9         T09    HYDRAULIC_GROUP 2017-09-16 00:00:00+00:00   \n",
       "10        T11    HYDRAULIC_GROUP 2017-04-26 00:00:00+00:00   \n",
       "11        T11    HYDRAULIC_GROUP 2017-09-12 00:00:00+00:00   \n",
       "\n",
       "                                              remarks  \n",
       "0                                Gearbox pump damaged  \n",
       "1                                  Generator replaced  \n",
       "2                Generator temperature sensor failure  \n",
       "3                    High temperature generator error  \n",
       "4                                  Generator replaced  \n",
       "5   Refrigeration system and temperature sensors i...  \n",
       "6                           Error in pitch regulation  \n",
       "7   High temperature in generator bearing (replace...  \n",
       "8                        High temperature transformer  \n",
       "9   High temperature transformer. Transformer refr...  \n",
       "10                                   Gearbox repaired  \n",
       "11              High tempemperature generator bearing  \n",
       "12                 High temperature generator bearing  \n",
       "13                        Generator bearings replaced  \n",
       "14                Electric circuit error in generator  \n",
       "15         Hydraulic group error in the brake circuit  \n",
       "0                             Transformer fan damaged  \n",
       "1                            Gearbox bearings damaged  \n",
       "2                                  Oil leakage in Hub  \n",
       "3                          Generator bearings damaged  \n",
       "4                                   Generator damaged  \n",
       "5                                  Oil leakage in Hub  \n",
       "6                                  Oil leakage in Hub  \n",
       "7                                       Gearbox noise  \n",
       "8                         Generator bearings replaced  \n",
       "9                     Pitch position error related GH  \n",
       "10         Hydraulic group error in the brake circuit  \n",
       "11         Hydraulic group error in the brake circuit  "
      ]
     },
     "execution_count": 120,
     "metadata": {},
     "output_type": "execute_result"
    }
   ],
   "source": [
    "failures"
   ]
  },
  {
   "cell_type": "code",
   "execution_count": 124,
   "metadata": {},
   "outputs": [],
   "source": [
    "days_lookback = 60\n",
    "def create_failure_list(failures: pd.DataFrame, days_lookback: int, value_function, target_name: str = \"Target\") -> pd.DataFrame:\n",
    "    failure_list = []\n",
    "\n",
    "    for i in range(len(failures)):\n",
    "        turbine_id = str(failures.iloc[i][\"turbine_id\"])\n",
    "        failure_datetime = failures.iloc[i][\"timestamp\"]\n",
    "        components = failures.iloc[i][\"component\"]\n",
    "        rounded_datetime = failure_datetime.replace(hour=0, minute=0, second=0, microsecond=0)  # Round to the start of the day\n",
    "\n",
    "        for j in range(days_lookback):\n",
    "            delta = timedelta(days=j)\n",
    "            new_datetime = rounded_datetime - delta\n",
    "            datetime_formated = new_datetime.replace(tzinfo=timezone.utc)\n",
    "            # Calculate the target value using the provided value_function\n",
    "            target_value = value_function(j, days_lookback)\n",
    "            failure_list.append([turbine_id, datetime_formated.isoformat(), components,target_value])\n",
    "    \n",
    "    failure_df = pd.DataFrame(failure_list, columns=[\"turbine_id\", \"timestamp\", \"component\",target_name])\n",
    "    return failure_df"
   ]
  },
  {
   "cell_type": "code",
   "execution_count": 130,
   "metadata": {},
   "outputs": [],
   "source": [
    "\n",
    "class_target_name = \"target_class\"\n",
    "regression_function = lambda i, j: i\n",
    "classif_function = lambda i, j: 1"
   ]
  },
  {
   "cell_type": "code",
   "execution_count": 131,
   "metadata": {},
   "outputs": [],
   "source": [
    "components = failures[\"component\"].unique()\n",
    "for component in components:\n",
    "    \n",
    "    globals()[f\"failure_df_{component}\"] = create_failure_list(failures[failures[\"component\"] == component], days_lookback, classif_function, class_target_name)\n",
    "    globals()[f\"failure_df_{component}\"]['timestamp'] = pd.to_datetime(globals()[f\"failure_df_{component}\"]['timestamp'])\n",
    "    globals()[f\"labeled_df_{component}\"] = pd.merge(merged_df.reset_index(drop=True), globals()[f\"failure_df_{component}\"].reset_index(drop=True), on=[\"turbine_id\", \"timestamp\"], how=\"left\")\n",
    "    globals()[f\"labeled_df_{component}\"][class_target_name] = globals()[f\"labeled_df_{component}\"][class_target_name].fillna(0).astype(int)\n",
    "    globals()[f\"labeled_df_{component}\"].drop_duplicates(inplace=True)\n",
    "    \n"
   ]
  },
  {
   "cell_type": "code",
   "execution_count": 133,
   "metadata": {},
   "outputs": [],
   "source": [
    "import os\n",
    "os.makedirs('../data/model_data', exist_ok=True)"
   ]
  },
  {
   "cell_type": "code",
   "execution_count": 134,
   "metadata": {},
   "outputs": [],
   "source": [
    "for component in components:\n",
    "    globals()[f\"labeled_df_{component}\"].to_csv(f'../data/model_data/labelled_data_{component}.csv', index=False)\n"
   ]
  },
  {
   "cell_type": "code",
   "execution_count": 135,
   "metadata": {},
   "outputs": [],
   "source": [
    "failures.to_csv('../data/model_data/failures.csv', index=False)"
   ]
  }
 ],
 "metadata": {
  "kernelspec": {
   "display_name": "venv",
   "language": "python",
   "name": "python3"
  },
  "language_info": {
   "codemirror_mode": {
    "name": "ipython",
    "version": 3
   },
   "file_extension": ".py",
   "mimetype": "text/x-python",
   "name": "python",
   "nbconvert_exporter": "python",
   "pygments_lexer": "ipython3",
   "version": "3.12.3"
  }
 },
 "nbformat": 4,
 "nbformat_minor": 2
}
